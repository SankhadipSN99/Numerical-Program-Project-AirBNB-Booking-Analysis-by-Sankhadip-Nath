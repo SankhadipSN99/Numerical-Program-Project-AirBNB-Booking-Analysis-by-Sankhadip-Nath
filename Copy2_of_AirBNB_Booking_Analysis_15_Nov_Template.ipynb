{
  "nbformat": 4,
  "nbformat_minor": 0,
  "metadata": {
    "colab": {
      "provenance": [],
      "collapsed_sections": [
        "mDgbUHAGgjLW",
        "t6dVpIINYklI",
        "-JiQyfWJYklI",
        "EM7whBJCYoAo",
        "fge-S5ZAYoAp",
        "85gYPyotYoAp",
        "RoGjAbkUYoAp",
        "4Of9eVA-YrdM",
        "iky9q4vBYrdO",
        "F6T5p64dYrdO",
        "y-Ehk30pYrdP",
        "bamQiAODYuh1",
        "QHF8YVU7Yuh3",
        "GwzvFGzlYuh3",
        "qYpmQ266Yuh3",
        "OH-pJp9IphqM",
        "bbFf2-_FphqN",
        "_ouA3fa0phqN",
        "Seke61FWphqN",
        "PIIx-8_IphqN",
        "t27r6nlMphqO",
        "r2jJGEOYphqO",
        "b0JNsNcRphqO",
        "BZR9WyysphqO",
        "jj7wYXLtphqO",
        "eZrbJ2SmphqO",
        "rFu4xreNphqO",
        "YJ55k-q6phqO",
        "gCFgpxoyphqP",
        "OVtJsKN_phqQ",
        "lssrdh5qphqQ",
        "U2RJ9gkRphqQ",
        "1M8mcRywphqQ",
        "tgIPom80phqQ",
        "JMzcOPDDphqR",
        "x-EpHcCOp1ci",
        "X_VqEhTip1ck",
        "8zGJKyg5p1ck",
        "PVzmfK_Ep1ck",
        "n3dbpmDWp1ck",
        "ylSl6qgtp1ck",
        "ZWILFDl5p1ck",
        "M7G43BXep1ck",
        "Ag9LCva-p1cl",
        "E6MkPsBcp1cl",
        "2cELzS2fp1cl",
        "3MPXvC8up1cl",
        "NC_X3p0fY2L0",
        "UV0SzAkaZNRQ",
        "YPEH6qLeZNRQ",
        "q29F0dvdveiT",
        "EXh0U9oCveiU",
        "22aHeOlLveiV",
        "JcMwzZxoAimU",
        "8G2x9gOozGDZ",
        "gCX9965dhzqZ",
        "gIfDvo9L0UH2"
      ],
      "include_colab_link": true
    },
    "kernelspec": {
      "name": "python3",
      "display_name": "Python 3"
    },
    "language_info": {
      "name": "python"
    }
  },
  "cells": [
    {
      "cell_type": "markdown",
      "metadata": {
        "id": "view-in-github",
        "colab_type": "text"
      },
      "source": [
        "<a href=\"https://colab.research.google.com/github/SankhadipSN99/Numerical-Program-Project-AirBNB-Booking-Analysis-by-Sankhadip-Nath/blob/main/Copy2_of_AirBNB_Booking_Analysis_15_Nov_Template.ipynb\" target=\"_parent\"><img src=\"https://colab.research.google.com/assets/colab-badge.svg\" alt=\"Open In Colab\"/></a>"
      ]
    },
    {
      "cell_type": "markdown",
      "source": [
        "# **Project Name**    -\n",
        "\n"
      ],
      "metadata": {
        "id": "vncDsAP0Gaoa"
      }
    },
    {
      "cell_type": "markdown",
      "source": [
        "##### **Project Type**    - EDA/\n",
        "##### **Contribution**    - Individual\n",
        "##### **Team Member 1 -**  Sankhadip Nath\n"
      ],
      "metadata": {
        "id": "beRrZCGUAJYm"
      }
    },
    {
      "cell_type": "markdown",
      "source": [
        "# **Project Summary -**"
      ],
      "metadata": {
        "id": "FJNUwmbgGyua"
      }
    },
    {
      "cell_type": "markdown",
      "source": [
        "Write the summary here within 500-600 words."
      ],
      "metadata": {
        "id": "F6v_1wHtG2nS"
      }
    },
    {
      "cell_type": "markdown",
      "source": [
        "# **GitHub Link -**"
      ],
      "metadata": {
        "id": "w6K7xa23Elo4"
      }
    },
    {
      "cell_type": "markdown",
      "source": [
        "Provide your GitHub Link here."
      ],
      "metadata": {
        "id": "h1o69JH3Eqqn"
      }
    },
    {
      "cell_type": "markdown",
      "source": [
        "# **Problem Statement**\n"
      ],
      "metadata": {
        "id": "yQaldy8SH6Dl"
      }
    },
    {
      "cell_type": "markdown",
      "source": [
        "**Write Problem Statement Here.**"
      ],
      "metadata": {
        "id": "DpeJGUA3kjGy"
      }
    },
    {
      "cell_type": "markdown",
      "source": [
        "#### **Define Your Business Objective?**"
      ],
      "metadata": {
        "id": "PH-0ReGfmX4f"
      }
    },
    {
      "cell_type": "markdown",
      "source": [
        "Answer Here."
      ],
      "metadata": {
        "id": "PhDvGCAqmjP1"
      }
    },
    {
      "cell_type": "markdown",
      "source": [
        "# **General Guidelines** : -  "
      ],
      "metadata": {
        "id": "mDgbUHAGgjLW"
      }
    },
    {
      "cell_type": "markdown",
      "source": [
        "1.   Well-structured, formatted, and commented code is required.\n",
        "2.   Exception Handling, Production Grade Code & Deployment Ready Code will be a plus. Those students will be awarded some additional credits.\n",
        "     \n",
        "     The additional credits will have advantages over other students during Star Student selection.\n",
        "       \n",
        "             [ Note: - Deployment Ready Code is defined as, the whole .ipynb notebook should be executable in one go\n",
        "                       without a single error logged. ]\n",
        "\n",
        "3.   Each and every logic should have proper comments.\n",
        "4. You may add as many number of charts you want. Make Sure for each and every chart the following format should be answered.\n",
        "        \n",
        "\n",
        "```\n",
        "# Chart visualization code\n",
        "```\n",
        "            \n",
        "\n",
        "*   Why did you pick the specific chart?\n",
        "*   What is/are the insight(s) found from the chart?\n",
        "* Will the gained insights help creating a positive business impact?\n",
        "Are there any insights that lead to negative growth? Justify with specific reason.\n",
        "\n",
        "5. You have to create at least 20 logical & meaningful charts having important insights.\n",
        "\n",
        "\n",
        "[ Hints : - Do the Vizualization in  a structured way while following \"UBM\" Rule.\n",
        "\n",
        "U - Univariate Analysis,\n",
        "\n",
        "B - Bivariate Analysis (Numerical - Categorical, Numerical - Numerical, Categorical - Categorical)\n",
        "\n",
        "M - Multivariate Analysis\n",
        " ]\n",
        "\n",
        "\n",
        "\n"
      ],
      "metadata": {
        "id": "ZrxVaUj-hHfC"
      }
    },
    {
      "cell_type": "markdown",
      "source": [
        "# ***Let's Begin !***"
      ],
      "metadata": {
        "id": "O_i_v8NEhb9l"
      }
    },
    {
      "cell_type": "markdown",
      "source": [
        "## ***1. Know Your Data***"
      ],
      "metadata": {
        "id": "HhfV-JJviCcP"
      }
    },
    {
      "cell_type": "markdown",
      "source": [
        "### Import Libraries"
      ],
      "metadata": {
        "id": "Y3lxredqlCYt"
      }
    },
    {
      "cell_type": "code",
      "source": [
        "# Import Libraries\n",
        "\n",
        "import numpy as np\n",
        "import pandas as pd\n",
        "import matplotlib.pyplot as plt\n",
        "import seaborn as sns\n",
        "sns.set()"
      ],
      "metadata": {
        "id": "M8Vqi-pPk-HR"
      },
      "execution_count": 1,
      "outputs": []
    },
    {
      "cell_type": "markdown",
      "source": [
        "### Dataset Loading"
      ],
      "metadata": {
        "id": "3RnN4peoiCZX"
      }
    },
    {
      "cell_type": "code",
      "source": [
        "# Load Dataset\n",
        "df = pd.read_csv(\"/content/drive/MyDrive/Colab Notebooks/DATASET csv/Airbnb NYC 2019.csv\")\n"
      ],
      "metadata": {
        "id": "4CkvbW_SlZ_R"
      },
      "execution_count": 22,
      "outputs": []
    },
    {
      "cell_type": "code",
      "source": [
        "from google.colab import drive\n",
        "drive.mount('/content/drive')"
      ],
      "metadata": {
        "id": "petVDvFNCjP3",
        "outputId": "4900112b-7b4b-4378-b3af-1d1799ba2640",
        "colab": {
          "base_uri": "https://localhost:8080/"
        }
      },
      "execution_count": 2,
      "outputs": [
        {
          "output_type": "stream",
          "name": "stdout",
          "text": [
            "Mounted at /content/drive\n"
          ]
        }
      ]
    },
    {
      "cell_type": "markdown",
      "source": [
        "### Dataset First View"
      ],
      "metadata": {
        "id": "x71ZqKXriCWQ"
      }
    },
    {
      "cell_type": "code",
      "source": [
        "# Dataset First Look\n",
        "df.head()"
      ],
      "metadata": {
        "id": "LWNFOSvLl09H",
        "outputId": "c7f431cf-33e3-4284-b1d0-d9990da82757",
        "colab": {
          "base_uri": "https://localhost:8080/",
          "height": 417
        }
      },
      "execution_count": 23,
      "outputs": [
        {
          "output_type": "execute_result",
          "data": {
            "text/plain": [
              "     id                                              name  host_id  \\\n",
              "0  2539                Clean & quiet apt home by the park     2787   \n",
              "1  2595                             Skylit Midtown Castle     2845   \n",
              "2  3647               THE VILLAGE OF HARLEM....NEW YORK !     4632   \n",
              "3  3831                   Cozy Entire Floor of Brownstone     4869   \n",
              "4  5022  Entire Apt: Spacious Studio/Loft by central park     7192   \n",
              "\n",
              "     host_name neighbourhood_group neighbourhood  latitude  longitude  \\\n",
              "0         John            Brooklyn    Kensington  40.64749  -73.97237   \n",
              "1     Jennifer           Manhattan       Midtown  40.75362  -73.98377   \n",
              "2    Elisabeth           Manhattan        Harlem  40.80902  -73.94190   \n",
              "3  LisaRoxanne            Brooklyn  Clinton Hill  40.68514  -73.95976   \n",
              "4        Laura           Manhattan   East Harlem  40.79851  -73.94399   \n",
              "\n",
              "         room_type  price  minimum_nights  number_of_reviews last_review  \\\n",
              "0     Private room    149               1                  9  2018-10-19   \n",
              "1  Entire home/apt    225               1                 45  2019-05-21   \n",
              "2     Private room    150               3                  0         NaN   \n",
              "3  Entire home/apt     89               1                270  2019-07-05   \n",
              "4  Entire home/apt     80              10                  9  2018-11-19   \n",
              "\n",
              "   reviews_per_month  calculated_host_listings_count  availability_365  \n",
              "0               0.21                               6               365  \n",
              "1               0.38                               2               355  \n",
              "2                NaN                               1               365  \n",
              "3               4.64                               1               194  \n",
              "4               0.10                               1                 0  "
            ],
            "text/html": [
              "\n",
              "  <div id=\"df-c0dbe50a-19ed-4453-8c09-6863ed90af11\" class=\"colab-df-container\">\n",
              "    <div>\n",
              "<style scoped>\n",
              "    .dataframe tbody tr th:only-of-type {\n",
              "        vertical-align: middle;\n",
              "    }\n",
              "\n",
              "    .dataframe tbody tr th {\n",
              "        vertical-align: top;\n",
              "    }\n",
              "\n",
              "    .dataframe thead th {\n",
              "        text-align: right;\n",
              "    }\n",
              "</style>\n",
              "<table border=\"1\" class=\"dataframe\">\n",
              "  <thead>\n",
              "    <tr style=\"text-align: right;\">\n",
              "      <th></th>\n",
              "      <th>id</th>\n",
              "      <th>name</th>\n",
              "      <th>host_id</th>\n",
              "      <th>host_name</th>\n",
              "      <th>neighbourhood_group</th>\n",
              "      <th>neighbourhood</th>\n",
              "      <th>latitude</th>\n",
              "      <th>longitude</th>\n",
              "      <th>room_type</th>\n",
              "      <th>price</th>\n",
              "      <th>minimum_nights</th>\n",
              "      <th>number_of_reviews</th>\n",
              "      <th>last_review</th>\n",
              "      <th>reviews_per_month</th>\n",
              "      <th>calculated_host_listings_count</th>\n",
              "      <th>availability_365</th>\n",
              "    </tr>\n",
              "  </thead>\n",
              "  <tbody>\n",
              "    <tr>\n",
              "      <th>0</th>\n",
              "      <td>2539</td>\n",
              "      <td>Clean &amp; quiet apt home by the park</td>\n",
              "      <td>2787</td>\n",
              "      <td>John</td>\n",
              "      <td>Brooklyn</td>\n",
              "      <td>Kensington</td>\n",
              "      <td>40.64749</td>\n",
              "      <td>-73.97237</td>\n",
              "      <td>Private room</td>\n",
              "      <td>149</td>\n",
              "      <td>1</td>\n",
              "      <td>9</td>\n",
              "      <td>2018-10-19</td>\n",
              "      <td>0.21</td>\n",
              "      <td>6</td>\n",
              "      <td>365</td>\n",
              "    </tr>\n",
              "    <tr>\n",
              "      <th>1</th>\n",
              "      <td>2595</td>\n",
              "      <td>Skylit Midtown Castle</td>\n",
              "      <td>2845</td>\n",
              "      <td>Jennifer</td>\n",
              "      <td>Manhattan</td>\n",
              "      <td>Midtown</td>\n",
              "      <td>40.75362</td>\n",
              "      <td>-73.98377</td>\n",
              "      <td>Entire home/apt</td>\n",
              "      <td>225</td>\n",
              "      <td>1</td>\n",
              "      <td>45</td>\n",
              "      <td>2019-05-21</td>\n",
              "      <td>0.38</td>\n",
              "      <td>2</td>\n",
              "      <td>355</td>\n",
              "    </tr>\n",
              "    <tr>\n",
              "      <th>2</th>\n",
              "      <td>3647</td>\n",
              "      <td>THE VILLAGE OF HARLEM....NEW YORK !</td>\n",
              "      <td>4632</td>\n",
              "      <td>Elisabeth</td>\n",
              "      <td>Manhattan</td>\n",
              "      <td>Harlem</td>\n",
              "      <td>40.80902</td>\n",
              "      <td>-73.94190</td>\n",
              "      <td>Private room</td>\n",
              "      <td>150</td>\n",
              "      <td>3</td>\n",
              "      <td>0</td>\n",
              "      <td>NaN</td>\n",
              "      <td>NaN</td>\n",
              "      <td>1</td>\n",
              "      <td>365</td>\n",
              "    </tr>\n",
              "    <tr>\n",
              "      <th>3</th>\n",
              "      <td>3831</td>\n",
              "      <td>Cozy Entire Floor of Brownstone</td>\n",
              "      <td>4869</td>\n",
              "      <td>LisaRoxanne</td>\n",
              "      <td>Brooklyn</td>\n",
              "      <td>Clinton Hill</td>\n",
              "      <td>40.68514</td>\n",
              "      <td>-73.95976</td>\n",
              "      <td>Entire home/apt</td>\n",
              "      <td>89</td>\n",
              "      <td>1</td>\n",
              "      <td>270</td>\n",
              "      <td>2019-07-05</td>\n",
              "      <td>4.64</td>\n",
              "      <td>1</td>\n",
              "      <td>194</td>\n",
              "    </tr>\n",
              "    <tr>\n",
              "      <th>4</th>\n",
              "      <td>5022</td>\n",
              "      <td>Entire Apt: Spacious Studio/Loft by central park</td>\n",
              "      <td>7192</td>\n",
              "      <td>Laura</td>\n",
              "      <td>Manhattan</td>\n",
              "      <td>East Harlem</td>\n",
              "      <td>40.79851</td>\n",
              "      <td>-73.94399</td>\n",
              "      <td>Entire home/apt</td>\n",
              "      <td>80</td>\n",
              "      <td>10</td>\n",
              "      <td>9</td>\n",
              "      <td>2018-11-19</td>\n",
              "      <td>0.10</td>\n",
              "      <td>1</td>\n",
              "      <td>0</td>\n",
              "    </tr>\n",
              "  </tbody>\n",
              "</table>\n",
              "</div>\n",
              "    <div class=\"colab-df-buttons\">\n",
              "\n",
              "  <div class=\"colab-df-container\">\n",
              "    <button class=\"colab-df-convert\" onclick=\"convertToInteractive('df-c0dbe50a-19ed-4453-8c09-6863ed90af11')\"\n",
              "            title=\"Convert this dataframe to an interactive table.\"\n",
              "            style=\"display:none;\">\n",
              "\n",
              "  <svg xmlns=\"http://www.w3.org/2000/svg\" height=\"24px\" viewBox=\"0 -960 960 960\">\n",
              "    <path d=\"M120-120v-720h720v720H120Zm60-500h600v-160H180v160Zm220 220h160v-160H400v160Zm0 220h160v-160H400v160ZM180-400h160v-160H180v160Zm440 0h160v-160H620v160ZM180-180h160v-160H180v160Zm440 0h160v-160H620v160Z\"/>\n",
              "  </svg>\n",
              "    </button>\n",
              "\n",
              "  <style>\n",
              "    .colab-df-container {\n",
              "      display:flex;\n",
              "      gap: 12px;\n",
              "    }\n",
              "\n",
              "    .colab-df-convert {\n",
              "      background-color: #E8F0FE;\n",
              "      border: none;\n",
              "      border-radius: 50%;\n",
              "      cursor: pointer;\n",
              "      display: none;\n",
              "      fill: #1967D2;\n",
              "      height: 32px;\n",
              "      padding: 0 0 0 0;\n",
              "      width: 32px;\n",
              "    }\n",
              "\n",
              "    .colab-df-convert:hover {\n",
              "      background-color: #E2EBFA;\n",
              "      box-shadow: 0px 1px 2px rgba(60, 64, 67, 0.3), 0px 1px 3px 1px rgba(60, 64, 67, 0.15);\n",
              "      fill: #174EA6;\n",
              "    }\n",
              "\n",
              "    .colab-df-buttons div {\n",
              "      margin-bottom: 4px;\n",
              "    }\n",
              "\n",
              "    [theme=dark] .colab-df-convert {\n",
              "      background-color: #3B4455;\n",
              "      fill: #D2E3FC;\n",
              "    }\n",
              "\n",
              "    [theme=dark] .colab-df-convert:hover {\n",
              "      background-color: #434B5C;\n",
              "      box-shadow: 0px 1px 3px 1px rgba(0, 0, 0, 0.15);\n",
              "      filter: drop-shadow(0px 1px 2px rgba(0, 0, 0, 0.3));\n",
              "      fill: #FFFFFF;\n",
              "    }\n",
              "  </style>\n",
              "\n",
              "    <script>\n",
              "      const buttonEl =\n",
              "        document.querySelector('#df-c0dbe50a-19ed-4453-8c09-6863ed90af11 button.colab-df-convert');\n",
              "      buttonEl.style.display =\n",
              "        google.colab.kernel.accessAllowed ? 'block' : 'none';\n",
              "\n",
              "      async function convertToInteractive(key) {\n",
              "        const element = document.querySelector('#df-c0dbe50a-19ed-4453-8c09-6863ed90af11');\n",
              "        const dataTable =\n",
              "          await google.colab.kernel.invokeFunction('convertToInteractive',\n",
              "                                                    [key], {});\n",
              "        if (!dataTable) return;\n",
              "\n",
              "        const docLinkHtml = 'Like what you see? Visit the ' +\n",
              "          '<a target=\"_blank\" href=https://colab.research.google.com/notebooks/data_table.ipynb>data table notebook</a>'\n",
              "          + ' to learn more about interactive tables.';\n",
              "        element.innerHTML = '';\n",
              "        dataTable['output_type'] = 'display_data';\n",
              "        await google.colab.output.renderOutput(dataTable, element);\n",
              "        const docLink = document.createElement('div');\n",
              "        docLink.innerHTML = docLinkHtml;\n",
              "        element.appendChild(docLink);\n",
              "      }\n",
              "    </script>\n",
              "  </div>\n",
              "\n",
              "\n",
              "<div id=\"df-50c211d1-0e8e-4897-bb91-2ec124bcfc1e\">\n",
              "  <button class=\"colab-df-quickchart\" onclick=\"quickchart('df-50c211d1-0e8e-4897-bb91-2ec124bcfc1e')\"\n",
              "            title=\"Suggest charts\"\n",
              "            style=\"display:none;\">\n",
              "\n",
              "<svg xmlns=\"http://www.w3.org/2000/svg\" height=\"24px\"viewBox=\"0 0 24 24\"\n",
              "     width=\"24px\">\n",
              "    <g>\n",
              "        <path d=\"M19 3H5c-1.1 0-2 .9-2 2v14c0 1.1.9 2 2 2h14c1.1 0 2-.9 2-2V5c0-1.1-.9-2-2-2zM9 17H7v-7h2v7zm4 0h-2V7h2v10zm4 0h-2v-4h2v4z\"/>\n",
              "    </g>\n",
              "</svg>\n",
              "  </button>\n",
              "\n",
              "<style>\n",
              "  .colab-df-quickchart {\n",
              "      --bg-color: #E8F0FE;\n",
              "      --fill-color: #1967D2;\n",
              "      --hover-bg-color: #E2EBFA;\n",
              "      --hover-fill-color: #174EA6;\n",
              "      --disabled-fill-color: #AAA;\n",
              "      --disabled-bg-color: #DDD;\n",
              "  }\n",
              "\n",
              "  [theme=dark] .colab-df-quickchart {\n",
              "      --bg-color: #3B4455;\n",
              "      --fill-color: #D2E3FC;\n",
              "      --hover-bg-color: #434B5C;\n",
              "      --hover-fill-color: #FFFFFF;\n",
              "      --disabled-bg-color: #3B4455;\n",
              "      --disabled-fill-color: #666;\n",
              "  }\n",
              "\n",
              "  .colab-df-quickchart {\n",
              "    background-color: var(--bg-color);\n",
              "    border: none;\n",
              "    border-radius: 50%;\n",
              "    cursor: pointer;\n",
              "    display: none;\n",
              "    fill: var(--fill-color);\n",
              "    height: 32px;\n",
              "    padding: 0;\n",
              "    width: 32px;\n",
              "  }\n",
              "\n",
              "  .colab-df-quickchart:hover {\n",
              "    background-color: var(--hover-bg-color);\n",
              "    box-shadow: 0 1px 2px rgba(60, 64, 67, 0.3), 0 1px 3px 1px rgba(60, 64, 67, 0.15);\n",
              "    fill: var(--button-hover-fill-color);\n",
              "  }\n",
              "\n",
              "  .colab-df-quickchart-complete:disabled,\n",
              "  .colab-df-quickchart-complete:disabled:hover {\n",
              "    background-color: var(--disabled-bg-color);\n",
              "    fill: var(--disabled-fill-color);\n",
              "    box-shadow: none;\n",
              "  }\n",
              "\n",
              "  .colab-df-spinner {\n",
              "    border: 2px solid var(--fill-color);\n",
              "    border-color: transparent;\n",
              "    border-bottom-color: var(--fill-color);\n",
              "    animation:\n",
              "      spin 1s steps(1) infinite;\n",
              "  }\n",
              "\n",
              "  @keyframes spin {\n",
              "    0% {\n",
              "      border-color: transparent;\n",
              "      border-bottom-color: var(--fill-color);\n",
              "      border-left-color: var(--fill-color);\n",
              "    }\n",
              "    20% {\n",
              "      border-color: transparent;\n",
              "      border-left-color: var(--fill-color);\n",
              "      border-top-color: var(--fill-color);\n",
              "    }\n",
              "    30% {\n",
              "      border-color: transparent;\n",
              "      border-left-color: var(--fill-color);\n",
              "      border-top-color: var(--fill-color);\n",
              "      border-right-color: var(--fill-color);\n",
              "    }\n",
              "    40% {\n",
              "      border-color: transparent;\n",
              "      border-right-color: var(--fill-color);\n",
              "      border-top-color: var(--fill-color);\n",
              "    }\n",
              "    60% {\n",
              "      border-color: transparent;\n",
              "      border-right-color: var(--fill-color);\n",
              "    }\n",
              "    80% {\n",
              "      border-color: transparent;\n",
              "      border-right-color: var(--fill-color);\n",
              "      border-bottom-color: var(--fill-color);\n",
              "    }\n",
              "    90% {\n",
              "      border-color: transparent;\n",
              "      border-bottom-color: var(--fill-color);\n",
              "    }\n",
              "  }\n",
              "</style>\n",
              "\n",
              "  <script>\n",
              "    async function quickchart(key) {\n",
              "      const quickchartButtonEl =\n",
              "        document.querySelector('#' + key + ' button');\n",
              "      quickchartButtonEl.disabled = true;  // To prevent multiple clicks.\n",
              "      quickchartButtonEl.classList.add('colab-df-spinner');\n",
              "      try {\n",
              "        const charts = await google.colab.kernel.invokeFunction(\n",
              "            'suggestCharts', [key], {});\n",
              "      } catch (error) {\n",
              "        console.error('Error during call to suggestCharts:', error);\n",
              "      }\n",
              "      quickchartButtonEl.classList.remove('colab-df-spinner');\n",
              "      quickchartButtonEl.classList.add('colab-df-quickchart-complete');\n",
              "    }\n",
              "    (() => {\n",
              "      let quickchartButtonEl =\n",
              "        document.querySelector('#df-50c211d1-0e8e-4897-bb91-2ec124bcfc1e button');\n",
              "      quickchartButtonEl.style.display =\n",
              "        google.colab.kernel.accessAllowed ? 'block' : 'none';\n",
              "    })();\n",
              "  </script>\n",
              "</div>\n",
              "    </div>\n",
              "  </div>\n"
            ]
          },
          "metadata": {},
          "execution_count": 23
        }
      ]
    },
    {
      "cell_type": "code",
      "source": [
        "df.tail()"
      ],
      "metadata": {
        "colab": {
          "base_uri": "https://localhost:8080/",
          "height": 469
        },
        "id": "Q1r4bdXUZHtH",
        "outputId": "53ae82c1-92ec-404b-b788-6af955b6a456"
      },
      "execution_count": 24,
      "outputs": [
        {
          "output_type": "execute_result",
          "data": {
            "text/plain": [
              "             id                                               name   host_id  \\\n",
              "48890  36484665    Charming one bedroom - newly renovated rowhouse   8232441   \n",
              "48891  36485057      Affordable room in Bushwick/East Williamsburg   6570630   \n",
              "48892  36485431            Sunny Studio at Historical Neighborhood  23492952   \n",
              "48893  36485609               43rd St. Time Square-cozy single bed  30985759   \n",
              "48894  36487245  Trendy duplex in the very heart of Hell's Kitchen  68119814   \n",
              "\n",
              "           host_name neighbourhood_group       neighbourhood  latitude  \\\n",
              "48890        Sabrina            Brooklyn  Bedford-Stuyvesant  40.67853   \n",
              "48891        Marisol            Brooklyn            Bushwick  40.70184   \n",
              "48892  Ilgar & Aysel           Manhattan              Harlem  40.81475   \n",
              "48893            Taz           Manhattan      Hell's Kitchen  40.75751   \n",
              "48894     Christophe           Manhattan      Hell's Kitchen  40.76404   \n",
              "\n",
              "       longitude        room_type  price  minimum_nights  number_of_reviews  \\\n",
              "48890  -73.94995     Private room     70               2                  0   \n",
              "48891  -73.93317     Private room     40               4                  0   \n",
              "48892  -73.94867  Entire home/apt    115              10                  0   \n",
              "48893  -73.99112      Shared room     55               1                  0   \n",
              "48894  -73.98933     Private room     90               7                  0   \n",
              "\n",
              "      last_review  reviews_per_month  calculated_host_listings_count  \\\n",
              "48890         NaN                NaN                               2   \n",
              "48891         NaN                NaN                               2   \n",
              "48892         NaN                NaN                               1   \n",
              "48893         NaN                NaN                               6   \n",
              "48894         NaN                NaN                               1   \n",
              "\n",
              "       availability_365  \n",
              "48890                 9  \n",
              "48891                36  \n",
              "48892                27  \n",
              "48893                 2  \n",
              "48894                23  "
            ],
            "text/html": [
              "\n",
              "  <div id=\"df-6292a763-7070-4813-ba9a-5cadc6d18bf3\" class=\"colab-df-container\">\n",
              "    <div>\n",
              "<style scoped>\n",
              "    .dataframe tbody tr th:only-of-type {\n",
              "        vertical-align: middle;\n",
              "    }\n",
              "\n",
              "    .dataframe tbody tr th {\n",
              "        vertical-align: top;\n",
              "    }\n",
              "\n",
              "    .dataframe thead th {\n",
              "        text-align: right;\n",
              "    }\n",
              "</style>\n",
              "<table border=\"1\" class=\"dataframe\">\n",
              "  <thead>\n",
              "    <tr style=\"text-align: right;\">\n",
              "      <th></th>\n",
              "      <th>id</th>\n",
              "      <th>name</th>\n",
              "      <th>host_id</th>\n",
              "      <th>host_name</th>\n",
              "      <th>neighbourhood_group</th>\n",
              "      <th>neighbourhood</th>\n",
              "      <th>latitude</th>\n",
              "      <th>longitude</th>\n",
              "      <th>room_type</th>\n",
              "      <th>price</th>\n",
              "      <th>minimum_nights</th>\n",
              "      <th>number_of_reviews</th>\n",
              "      <th>last_review</th>\n",
              "      <th>reviews_per_month</th>\n",
              "      <th>calculated_host_listings_count</th>\n",
              "      <th>availability_365</th>\n",
              "    </tr>\n",
              "  </thead>\n",
              "  <tbody>\n",
              "    <tr>\n",
              "      <th>48890</th>\n",
              "      <td>36484665</td>\n",
              "      <td>Charming one bedroom - newly renovated rowhouse</td>\n",
              "      <td>8232441</td>\n",
              "      <td>Sabrina</td>\n",
              "      <td>Brooklyn</td>\n",
              "      <td>Bedford-Stuyvesant</td>\n",
              "      <td>40.67853</td>\n",
              "      <td>-73.94995</td>\n",
              "      <td>Private room</td>\n",
              "      <td>70</td>\n",
              "      <td>2</td>\n",
              "      <td>0</td>\n",
              "      <td>NaN</td>\n",
              "      <td>NaN</td>\n",
              "      <td>2</td>\n",
              "      <td>9</td>\n",
              "    </tr>\n",
              "    <tr>\n",
              "      <th>48891</th>\n",
              "      <td>36485057</td>\n",
              "      <td>Affordable room in Bushwick/East Williamsburg</td>\n",
              "      <td>6570630</td>\n",
              "      <td>Marisol</td>\n",
              "      <td>Brooklyn</td>\n",
              "      <td>Bushwick</td>\n",
              "      <td>40.70184</td>\n",
              "      <td>-73.93317</td>\n",
              "      <td>Private room</td>\n",
              "      <td>40</td>\n",
              "      <td>4</td>\n",
              "      <td>0</td>\n",
              "      <td>NaN</td>\n",
              "      <td>NaN</td>\n",
              "      <td>2</td>\n",
              "      <td>36</td>\n",
              "    </tr>\n",
              "    <tr>\n",
              "      <th>48892</th>\n",
              "      <td>36485431</td>\n",
              "      <td>Sunny Studio at Historical Neighborhood</td>\n",
              "      <td>23492952</td>\n",
              "      <td>Ilgar &amp; Aysel</td>\n",
              "      <td>Manhattan</td>\n",
              "      <td>Harlem</td>\n",
              "      <td>40.81475</td>\n",
              "      <td>-73.94867</td>\n",
              "      <td>Entire home/apt</td>\n",
              "      <td>115</td>\n",
              "      <td>10</td>\n",
              "      <td>0</td>\n",
              "      <td>NaN</td>\n",
              "      <td>NaN</td>\n",
              "      <td>1</td>\n",
              "      <td>27</td>\n",
              "    </tr>\n",
              "    <tr>\n",
              "      <th>48893</th>\n",
              "      <td>36485609</td>\n",
              "      <td>43rd St. Time Square-cozy single bed</td>\n",
              "      <td>30985759</td>\n",
              "      <td>Taz</td>\n",
              "      <td>Manhattan</td>\n",
              "      <td>Hell's Kitchen</td>\n",
              "      <td>40.75751</td>\n",
              "      <td>-73.99112</td>\n",
              "      <td>Shared room</td>\n",
              "      <td>55</td>\n",
              "      <td>1</td>\n",
              "      <td>0</td>\n",
              "      <td>NaN</td>\n",
              "      <td>NaN</td>\n",
              "      <td>6</td>\n",
              "      <td>2</td>\n",
              "    </tr>\n",
              "    <tr>\n",
              "      <th>48894</th>\n",
              "      <td>36487245</td>\n",
              "      <td>Trendy duplex in the very heart of Hell's Kitchen</td>\n",
              "      <td>68119814</td>\n",
              "      <td>Christophe</td>\n",
              "      <td>Manhattan</td>\n",
              "      <td>Hell's Kitchen</td>\n",
              "      <td>40.76404</td>\n",
              "      <td>-73.98933</td>\n",
              "      <td>Private room</td>\n",
              "      <td>90</td>\n",
              "      <td>7</td>\n",
              "      <td>0</td>\n",
              "      <td>NaN</td>\n",
              "      <td>NaN</td>\n",
              "      <td>1</td>\n",
              "      <td>23</td>\n",
              "    </tr>\n",
              "  </tbody>\n",
              "</table>\n",
              "</div>\n",
              "    <div class=\"colab-df-buttons\">\n",
              "\n",
              "  <div class=\"colab-df-container\">\n",
              "    <button class=\"colab-df-convert\" onclick=\"convertToInteractive('df-6292a763-7070-4813-ba9a-5cadc6d18bf3')\"\n",
              "            title=\"Convert this dataframe to an interactive table.\"\n",
              "            style=\"display:none;\">\n",
              "\n",
              "  <svg xmlns=\"http://www.w3.org/2000/svg\" height=\"24px\" viewBox=\"0 -960 960 960\">\n",
              "    <path d=\"M120-120v-720h720v720H120Zm60-500h600v-160H180v160Zm220 220h160v-160H400v160Zm0 220h160v-160H400v160ZM180-400h160v-160H180v160Zm440 0h160v-160H620v160ZM180-180h160v-160H180v160Zm440 0h160v-160H620v160Z\"/>\n",
              "  </svg>\n",
              "    </button>\n",
              "\n",
              "  <style>\n",
              "    .colab-df-container {\n",
              "      display:flex;\n",
              "      gap: 12px;\n",
              "    }\n",
              "\n",
              "    .colab-df-convert {\n",
              "      background-color: #E8F0FE;\n",
              "      border: none;\n",
              "      border-radius: 50%;\n",
              "      cursor: pointer;\n",
              "      display: none;\n",
              "      fill: #1967D2;\n",
              "      height: 32px;\n",
              "      padding: 0 0 0 0;\n",
              "      width: 32px;\n",
              "    }\n",
              "\n",
              "    .colab-df-convert:hover {\n",
              "      background-color: #E2EBFA;\n",
              "      box-shadow: 0px 1px 2px rgba(60, 64, 67, 0.3), 0px 1px 3px 1px rgba(60, 64, 67, 0.15);\n",
              "      fill: #174EA6;\n",
              "    }\n",
              "\n",
              "    .colab-df-buttons div {\n",
              "      margin-bottom: 4px;\n",
              "    }\n",
              "\n",
              "    [theme=dark] .colab-df-convert {\n",
              "      background-color: #3B4455;\n",
              "      fill: #D2E3FC;\n",
              "    }\n",
              "\n",
              "    [theme=dark] .colab-df-convert:hover {\n",
              "      background-color: #434B5C;\n",
              "      box-shadow: 0px 1px 3px 1px rgba(0, 0, 0, 0.15);\n",
              "      filter: drop-shadow(0px 1px 2px rgba(0, 0, 0, 0.3));\n",
              "      fill: #FFFFFF;\n",
              "    }\n",
              "  </style>\n",
              "\n",
              "    <script>\n",
              "      const buttonEl =\n",
              "        document.querySelector('#df-6292a763-7070-4813-ba9a-5cadc6d18bf3 button.colab-df-convert');\n",
              "      buttonEl.style.display =\n",
              "        google.colab.kernel.accessAllowed ? 'block' : 'none';\n",
              "\n",
              "      async function convertToInteractive(key) {\n",
              "        const element = document.querySelector('#df-6292a763-7070-4813-ba9a-5cadc6d18bf3');\n",
              "        const dataTable =\n",
              "          await google.colab.kernel.invokeFunction('convertToInteractive',\n",
              "                                                    [key], {});\n",
              "        if (!dataTable) return;\n",
              "\n",
              "        const docLinkHtml = 'Like what you see? Visit the ' +\n",
              "          '<a target=\"_blank\" href=https://colab.research.google.com/notebooks/data_table.ipynb>data table notebook</a>'\n",
              "          + ' to learn more about interactive tables.';\n",
              "        element.innerHTML = '';\n",
              "        dataTable['output_type'] = 'display_data';\n",
              "        await google.colab.output.renderOutput(dataTable, element);\n",
              "        const docLink = document.createElement('div');\n",
              "        docLink.innerHTML = docLinkHtml;\n",
              "        element.appendChild(docLink);\n",
              "      }\n",
              "    </script>\n",
              "  </div>\n",
              "\n",
              "\n",
              "<div id=\"df-e544a5dd-9ef9-4fdc-9be0-ee8cf223147f\">\n",
              "  <button class=\"colab-df-quickchart\" onclick=\"quickchart('df-e544a5dd-9ef9-4fdc-9be0-ee8cf223147f')\"\n",
              "            title=\"Suggest charts\"\n",
              "            style=\"display:none;\">\n",
              "\n",
              "<svg xmlns=\"http://www.w3.org/2000/svg\" height=\"24px\"viewBox=\"0 0 24 24\"\n",
              "     width=\"24px\">\n",
              "    <g>\n",
              "        <path d=\"M19 3H5c-1.1 0-2 .9-2 2v14c0 1.1.9 2 2 2h14c1.1 0 2-.9 2-2V5c0-1.1-.9-2-2-2zM9 17H7v-7h2v7zm4 0h-2V7h2v10zm4 0h-2v-4h2v4z\"/>\n",
              "    </g>\n",
              "</svg>\n",
              "  </button>\n",
              "\n",
              "<style>\n",
              "  .colab-df-quickchart {\n",
              "      --bg-color: #E8F0FE;\n",
              "      --fill-color: #1967D2;\n",
              "      --hover-bg-color: #E2EBFA;\n",
              "      --hover-fill-color: #174EA6;\n",
              "      --disabled-fill-color: #AAA;\n",
              "      --disabled-bg-color: #DDD;\n",
              "  }\n",
              "\n",
              "  [theme=dark] .colab-df-quickchart {\n",
              "      --bg-color: #3B4455;\n",
              "      --fill-color: #D2E3FC;\n",
              "      --hover-bg-color: #434B5C;\n",
              "      --hover-fill-color: #FFFFFF;\n",
              "      --disabled-bg-color: #3B4455;\n",
              "      --disabled-fill-color: #666;\n",
              "  }\n",
              "\n",
              "  .colab-df-quickchart {\n",
              "    background-color: var(--bg-color);\n",
              "    border: none;\n",
              "    border-radius: 50%;\n",
              "    cursor: pointer;\n",
              "    display: none;\n",
              "    fill: var(--fill-color);\n",
              "    height: 32px;\n",
              "    padding: 0;\n",
              "    width: 32px;\n",
              "  }\n",
              "\n",
              "  .colab-df-quickchart:hover {\n",
              "    background-color: var(--hover-bg-color);\n",
              "    box-shadow: 0 1px 2px rgba(60, 64, 67, 0.3), 0 1px 3px 1px rgba(60, 64, 67, 0.15);\n",
              "    fill: var(--button-hover-fill-color);\n",
              "  }\n",
              "\n",
              "  .colab-df-quickchart-complete:disabled,\n",
              "  .colab-df-quickchart-complete:disabled:hover {\n",
              "    background-color: var(--disabled-bg-color);\n",
              "    fill: var(--disabled-fill-color);\n",
              "    box-shadow: none;\n",
              "  }\n",
              "\n",
              "  .colab-df-spinner {\n",
              "    border: 2px solid var(--fill-color);\n",
              "    border-color: transparent;\n",
              "    border-bottom-color: var(--fill-color);\n",
              "    animation:\n",
              "      spin 1s steps(1) infinite;\n",
              "  }\n",
              "\n",
              "  @keyframes spin {\n",
              "    0% {\n",
              "      border-color: transparent;\n",
              "      border-bottom-color: var(--fill-color);\n",
              "      border-left-color: var(--fill-color);\n",
              "    }\n",
              "    20% {\n",
              "      border-color: transparent;\n",
              "      border-left-color: var(--fill-color);\n",
              "      border-top-color: var(--fill-color);\n",
              "    }\n",
              "    30% {\n",
              "      border-color: transparent;\n",
              "      border-left-color: var(--fill-color);\n",
              "      border-top-color: var(--fill-color);\n",
              "      border-right-color: var(--fill-color);\n",
              "    }\n",
              "    40% {\n",
              "      border-color: transparent;\n",
              "      border-right-color: var(--fill-color);\n",
              "      border-top-color: var(--fill-color);\n",
              "    }\n",
              "    60% {\n",
              "      border-color: transparent;\n",
              "      border-right-color: var(--fill-color);\n",
              "    }\n",
              "    80% {\n",
              "      border-color: transparent;\n",
              "      border-right-color: var(--fill-color);\n",
              "      border-bottom-color: var(--fill-color);\n",
              "    }\n",
              "    90% {\n",
              "      border-color: transparent;\n",
              "      border-bottom-color: var(--fill-color);\n",
              "    }\n",
              "  }\n",
              "</style>\n",
              "\n",
              "  <script>\n",
              "    async function quickchart(key) {\n",
              "      const quickchartButtonEl =\n",
              "        document.querySelector('#' + key + ' button');\n",
              "      quickchartButtonEl.disabled = true;  // To prevent multiple clicks.\n",
              "      quickchartButtonEl.classList.add('colab-df-spinner');\n",
              "      try {\n",
              "        const charts = await google.colab.kernel.invokeFunction(\n",
              "            'suggestCharts', [key], {});\n",
              "      } catch (error) {\n",
              "        console.error('Error during call to suggestCharts:', error);\n",
              "      }\n",
              "      quickchartButtonEl.classList.remove('colab-df-spinner');\n",
              "      quickchartButtonEl.classList.add('colab-df-quickchart-complete');\n",
              "    }\n",
              "    (() => {\n",
              "      let quickchartButtonEl =\n",
              "        document.querySelector('#df-e544a5dd-9ef9-4fdc-9be0-ee8cf223147f button');\n",
              "      quickchartButtonEl.style.display =\n",
              "        google.colab.kernel.accessAllowed ? 'block' : 'none';\n",
              "    })();\n",
              "  </script>\n",
              "</div>\n",
              "    </div>\n",
              "  </div>\n"
            ]
          },
          "metadata": {},
          "execution_count": 24
        }
      ]
    },
    {
      "cell_type": "markdown",
      "source": [
        "### Dataset Rows & Columns count"
      ],
      "metadata": {
        "id": "7hBIi_osiCS2"
      }
    },
    {
      "cell_type": "markdown",
      "source": [
        "# Dataset Rows & Columns count\n"
      ],
      "metadata": {
        "id": "Kllu7SJgmLij"
      }
    },
    {
      "cell_type": "code",
      "source": [
        "Rows = df.shape[0]\n",
        "Columns = df.shape[1]\n",
        "print('Rows :', str(Rows))\n",
        "print('Columns :', str(Columns))"
      ],
      "metadata": {
        "colab": {
          "base_uri": "https://localhost:8080/"
        },
        "id": "Vad1jH6OYSo1",
        "outputId": "5b33906d-73bb-4dfc-d431-06ec37088ea6"
      },
      "execution_count": 5,
      "outputs": [
        {
          "output_type": "stream",
          "name": "stdout",
          "text": [
            "Rows : 48895\n",
            "Columns : 16\n"
          ]
        }
      ]
    },
    {
      "cell_type": "markdown",
      "source": [
        "### Dataset Information"
      ],
      "metadata": {
        "id": "JlHwYmJAmNHm"
      }
    },
    {
      "cell_type": "code",
      "source": [
        "# Dataset Info\n",
        "\n",
        "df.info()"
      ],
      "metadata": {
        "id": "e9hRXRi6meOf",
        "outputId": "4c4be871-f3be-40f1-8006-1a9cb7962d3e",
        "colab": {
          "base_uri": "https://localhost:8080/"
        }
      },
      "execution_count": 7,
      "outputs": [
        {
          "output_type": "stream",
          "name": "stdout",
          "text": [
            "<class 'pandas.core.frame.DataFrame'>\n",
            "RangeIndex: 48895 entries, 0 to 48894\n",
            "Data columns (total 16 columns):\n",
            " #   Column                          Non-Null Count  Dtype  \n",
            "---  ------                          --------------  -----  \n",
            " 0   id                              48895 non-null  int64  \n",
            " 1   name                            48879 non-null  object \n",
            " 2   host_id                         48895 non-null  int64  \n",
            " 3   host_name                       48874 non-null  object \n",
            " 4   neighbourhood_group             48895 non-null  object \n",
            " 5   neighbourhood                   48895 non-null  object \n",
            " 6   latitude                        48895 non-null  float64\n",
            " 7   longitude                       48895 non-null  float64\n",
            " 8   room_type                       48895 non-null  object \n",
            " 9   price                           48895 non-null  int64  \n",
            " 10  minimum_nights                  48895 non-null  int64  \n",
            " 11  number_of_reviews               48895 non-null  int64  \n",
            " 12  last_review                     38843 non-null  object \n",
            " 13  reviews_per_month               38843 non-null  float64\n",
            " 14  calculated_host_listings_count  48895 non-null  int64  \n",
            " 15  availability_365                48895 non-null  int64  \n",
            "dtypes: float64(3), int64(7), object(6)\n",
            "memory usage: 6.0+ MB\n"
          ]
        }
      ]
    },
    {
      "cell_type": "markdown",
      "source": [
        "#### Duplicate Values"
      ],
      "metadata": {
        "id": "35m5QtbWiB9F"
      }
    },
    {
      "cell_type": "code",
      "source": [
        "# Dataset Duplicate Value Count\n",
        "df.duplicated().sum()"
      ],
      "metadata": {
        "id": "1sLdpKYkmox0",
        "outputId": "2049a48e-2608-4c18-fabb-2319fb5b72cc",
        "colab": {
          "base_uri": "https://localhost:8080/"
        }
      },
      "execution_count": 8,
      "outputs": [
        {
          "output_type": "execute_result",
          "data": {
            "text/plain": [
              "0"
            ]
          },
          "metadata": {},
          "execution_count": 8
        }
      ]
    },
    {
      "cell_type": "markdown",
      "source": [
        "#### Missing Values/Null Values"
      ],
      "metadata": {
        "id": "PoPl-ycgm1ru"
      }
    },
    {
      "cell_type": "code",
      "source": [
        "# Missing Values/Null Values Count\n",
        "df.isna().sum()"
      ],
      "metadata": {
        "id": "GgHWkxvamxVg",
        "outputId": "a0f65bf5-aa81-4268-f635-e3132e5bdefc",
        "colab": {
          "base_uri": "https://localhost:8080/"
        }
      },
      "execution_count": 9,
      "outputs": [
        {
          "output_type": "execute_result",
          "data": {
            "text/plain": [
              "id                                    0\n",
              "name                                 16\n",
              "host_id                               0\n",
              "host_name                            21\n",
              "neighbourhood_group                   0\n",
              "neighbourhood                         0\n",
              "latitude                              0\n",
              "longitude                             0\n",
              "room_type                             0\n",
              "price                                 0\n",
              "minimum_nights                        0\n",
              "number_of_reviews                     0\n",
              "last_review                       10052\n",
              "reviews_per_month                 10052\n",
              "calculated_host_listings_count        0\n",
              "availability_365                      0\n",
              "dtype: int64"
            ]
          },
          "metadata": {},
          "execution_count": 9
        }
      ]
    },
    {
      "cell_type": "code",
      "source": [
        "# Visualizing the missing values\n",
        "\n",
        "df.dropna(subset = 'name', axis = 0, inplace = True)\n",
        "df.dropna(subset = 'host_name', axis = 0, inplace = True)\n",
        "df.dropna(subset = 'last_review', axis = 0, inplace = True)\n",
        "df.dropna(subset = 'reviews_per_month', axis = 0, inplace = True)\n"
      ],
      "metadata": {
        "id": "3q5wnI3om9sJ"
      },
      "execution_count": 12,
      "outputs": []
    },
    {
      "cell_type": "markdown",
      "source": [
        "### What did you know about your dataset?"
      ],
      "metadata": {
        "id": "H0kj-8xxnORC"
      }
    },
    {
      "cell_type": "markdown",
      "source": [
        "Answer Here\n",
        "\n",
        "After the basic analysis of the AirBNB Booking 2019 dataset, I found that there is a total of 48895 rows and 16 columns. Among all these columns and rows there is no duplicate values present but in the columns named as ['name', 'host_name', 'last_review', 'reviews_per_month'] are having some null values that I need to change or drop. Once I have gone through all the columns I found that they consist of either object or float values. But in the ['last_review', 'reviews_per_month'] columns the vaules given were not really inter-related, so I thought there is no sense of taking their mean or median values to fill the null atributes. So I have dropped all these null values row-wise from the above mentioned columns."
      ],
      "metadata": {
        "id": "gfoNAAC-nUe_"
      }
    },
    {
      "cell_type": "markdown",
      "source": [
        "## ***2. Understanding Your Variables***"
      ],
      "metadata": {
        "id": "nA9Y7ga8ng1Z"
      }
    },
    {
      "cell_type": "code",
      "source": [
        "# Dataset Columns\n",
        "df.columns"
      ],
      "metadata": {
        "id": "j7xfkqrt5Ag5",
        "outputId": "25033651-e5fa-4ab1-c5cd-86745eb783ea",
        "colab": {
          "base_uri": "https://localhost:8080/"
        }
      },
      "execution_count": 13,
      "outputs": [
        {
          "output_type": "execute_result",
          "data": {
            "text/plain": [
              "Index(['id', 'name', 'host_id', 'host_name', 'neighbourhood_group',\n",
              "       'neighbourhood', 'latitude', 'longitude', 'room_type', 'price',\n",
              "       'minimum_nights', 'number_of_reviews', 'last_review',\n",
              "       'reviews_per_month', 'calculated_host_listings_count',\n",
              "       'availability_365'],\n",
              "      dtype='object')"
            ]
          },
          "metadata": {},
          "execution_count": 13
        }
      ]
    },
    {
      "cell_type": "code",
      "source": [
        "# Dataset Describe\n",
        "df.describe()"
      ],
      "metadata": {
        "id": "DnOaZdaE5Q5t",
        "outputId": "a3e2f1f4-81f2-44fd-c3ff-ae5f71275881",
        "colab": {
          "base_uri": "https://localhost:8080/",
          "height": 320
        }
      },
      "execution_count": 14,
      "outputs": [
        {
          "output_type": "execute_result",
          "data": {
            "text/plain": [
              "                 id       host_id      latitude     longitude         price  \\\n",
              "count  3.882100e+04  3.882100e+04  38821.000000  38821.000000  38821.000000   \n",
              "mean   1.810081e+07  6.424582e+07     40.728129    -73.951149    142.332526   \n",
              "std    1.069372e+07  7.589752e+07      0.054991      0.046693    196.994756   \n",
              "min    2.539000e+03  2.438000e+03     40.506410    -74.244420      0.000000   \n",
              "25%    8.721444e+06  7.029525e+06     40.688640    -73.982460     69.000000   \n",
              "50%    1.887286e+07  2.837092e+07     40.721710    -73.954810    101.000000   \n",
              "75%    2.756746e+07  1.018905e+08     40.762990    -73.935020    170.000000   \n",
              "max    3.645581e+07  2.738417e+08     40.913060    -73.712990  10000.000000   \n",
              "\n",
              "       minimum_nights  number_of_reviews  reviews_per_month  \\\n",
              "count    38821.000000       38821.000000       38821.000000   \n",
              "mean         5.869220          29.290255           1.373229   \n",
              "std         17.389026          48.182900           1.680328   \n",
              "min          1.000000           1.000000           0.010000   \n",
              "25%          1.000000           3.000000           0.190000   \n",
              "50%          2.000000           9.000000           0.720000   \n",
              "75%          4.000000          33.000000           2.020000   \n",
              "max       1250.000000         629.000000          58.500000   \n",
              "\n",
              "       calculated_host_listings_count  availability_365  \n",
              "count                    38821.000000      38821.000000  \n",
              "mean                         5.166611        114.886299  \n",
              "std                         26.302954        129.529950  \n",
              "min                          1.000000          0.000000  \n",
              "25%                          1.000000          0.000000  \n",
              "50%                          1.000000         55.000000  \n",
              "75%                          2.000000        229.000000  \n",
              "max                        327.000000        365.000000  "
            ],
            "text/html": [
              "\n",
              "  <div id=\"df-3aa8468e-237f-4117-b752-ba6a4f7d0513\" class=\"colab-df-container\">\n",
              "    <div>\n",
              "<style scoped>\n",
              "    .dataframe tbody tr th:only-of-type {\n",
              "        vertical-align: middle;\n",
              "    }\n",
              "\n",
              "    .dataframe tbody tr th {\n",
              "        vertical-align: top;\n",
              "    }\n",
              "\n",
              "    .dataframe thead th {\n",
              "        text-align: right;\n",
              "    }\n",
              "</style>\n",
              "<table border=\"1\" class=\"dataframe\">\n",
              "  <thead>\n",
              "    <tr style=\"text-align: right;\">\n",
              "      <th></th>\n",
              "      <th>id</th>\n",
              "      <th>host_id</th>\n",
              "      <th>latitude</th>\n",
              "      <th>longitude</th>\n",
              "      <th>price</th>\n",
              "      <th>minimum_nights</th>\n",
              "      <th>number_of_reviews</th>\n",
              "      <th>reviews_per_month</th>\n",
              "      <th>calculated_host_listings_count</th>\n",
              "      <th>availability_365</th>\n",
              "    </tr>\n",
              "  </thead>\n",
              "  <tbody>\n",
              "    <tr>\n",
              "      <th>count</th>\n",
              "      <td>3.882100e+04</td>\n",
              "      <td>3.882100e+04</td>\n",
              "      <td>38821.000000</td>\n",
              "      <td>38821.000000</td>\n",
              "      <td>38821.000000</td>\n",
              "      <td>38821.000000</td>\n",
              "      <td>38821.000000</td>\n",
              "      <td>38821.000000</td>\n",
              "      <td>38821.000000</td>\n",
              "      <td>38821.000000</td>\n",
              "    </tr>\n",
              "    <tr>\n",
              "      <th>mean</th>\n",
              "      <td>1.810081e+07</td>\n",
              "      <td>6.424582e+07</td>\n",
              "      <td>40.728129</td>\n",
              "      <td>-73.951149</td>\n",
              "      <td>142.332526</td>\n",
              "      <td>5.869220</td>\n",
              "      <td>29.290255</td>\n",
              "      <td>1.373229</td>\n",
              "      <td>5.166611</td>\n",
              "      <td>114.886299</td>\n",
              "    </tr>\n",
              "    <tr>\n",
              "      <th>std</th>\n",
              "      <td>1.069372e+07</td>\n",
              "      <td>7.589752e+07</td>\n",
              "      <td>0.054991</td>\n",
              "      <td>0.046693</td>\n",
              "      <td>196.994756</td>\n",
              "      <td>17.389026</td>\n",
              "      <td>48.182900</td>\n",
              "      <td>1.680328</td>\n",
              "      <td>26.302954</td>\n",
              "      <td>129.529950</td>\n",
              "    </tr>\n",
              "    <tr>\n",
              "      <th>min</th>\n",
              "      <td>2.539000e+03</td>\n",
              "      <td>2.438000e+03</td>\n",
              "      <td>40.506410</td>\n",
              "      <td>-74.244420</td>\n",
              "      <td>0.000000</td>\n",
              "      <td>1.000000</td>\n",
              "      <td>1.000000</td>\n",
              "      <td>0.010000</td>\n",
              "      <td>1.000000</td>\n",
              "      <td>0.000000</td>\n",
              "    </tr>\n",
              "    <tr>\n",
              "      <th>25%</th>\n",
              "      <td>8.721444e+06</td>\n",
              "      <td>7.029525e+06</td>\n",
              "      <td>40.688640</td>\n",
              "      <td>-73.982460</td>\n",
              "      <td>69.000000</td>\n",
              "      <td>1.000000</td>\n",
              "      <td>3.000000</td>\n",
              "      <td>0.190000</td>\n",
              "      <td>1.000000</td>\n",
              "      <td>0.000000</td>\n",
              "    </tr>\n",
              "    <tr>\n",
              "      <th>50%</th>\n",
              "      <td>1.887286e+07</td>\n",
              "      <td>2.837092e+07</td>\n",
              "      <td>40.721710</td>\n",
              "      <td>-73.954810</td>\n",
              "      <td>101.000000</td>\n",
              "      <td>2.000000</td>\n",
              "      <td>9.000000</td>\n",
              "      <td>0.720000</td>\n",
              "      <td>1.000000</td>\n",
              "      <td>55.000000</td>\n",
              "    </tr>\n",
              "    <tr>\n",
              "      <th>75%</th>\n",
              "      <td>2.756746e+07</td>\n",
              "      <td>1.018905e+08</td>\n",
              "      <td>40.762990</td>\n",
              "      <td>-73.935020</td>\n",
              "      <td>170.000000</td>\n",
              "      <td>4.000000</td>\n",
              "      <td>33.000000</td>\n",
              "      <td>2.020000</td>\n",
              "      <td>2.000000</td>\n",
              "      <td>229.000000</td>\n",
              "    </tr>\n",
              "    <tr>\n",
              "      <th>max</th>\n",
              "      <td>3.645581e+07</td>\n",
              "      <td>2.738417e+08</td>\n",
              "      <td>40.913060</td>\n",
              "      <td>-73.712990</td>\n",
              "      <td>10000.000000</td>\n",
              "      <td>1250.000000</td>\n",
              "      <td>629.000000</td>\n",
              "      <td>58.500000</td>\n",
              "      <td>327.000000</td>\n",
              "      <td>365.000000</td>\n",
              "    </tr>\n",
              "  </tbody>\n",
              "</table>\n",
              "</div>\n",
              "    <div class=\"colab-df-buttons\">\n",
              "\n",
              "  <div class=\"colab-df-container\">\n",
              "    <button class=\"colab-df-convert\" onclick=\"convertToInteractive('df-3aa8468e-237f-4117-b752-ba6a4f7d0513')\"\n",
              "            title=\"Convert this dataframe to an interactive table.\"\n",
              "            style=\"display:none;\">\n",
              "\n",
              "  <svg xmlns=\"http://www.w3.org/2000/svg\" height=\"24px\" viewBox=\"0 -960 960 960\">\n",
              "    <path d=\"M120-120v-720h720v720H120Zm60-500h600v-160H180v160Zm220 220h160v-160H400v160Zm0 220h160v-160H400v160ZM180-400h160v-160H180v160Zm440 0h160v-160H620v160ZM180-180h160v-160H180v160Zm440 0h160v-160H620v160Z\"/>\n",
              "  </svg>\n",
              "    </button>\n",
              "\n",
              "  <style>\n",
              "    .colab-df-container {\n",
              "      display:flex;\n",
              "      gap: 12px;\n",
              "    }\n",
              "\n",
              "    .colab-df-convert {\n",
              "      background-color: #E8F0FE;\n",
              "      border: none;\n",
              "      border-radius: 50%;\n",
              "      cursor: pointer;\n",
              "      display: none;\n",
              "      fill: #1967D2;\n",
              "      height: 32px;\n",
              "      padding: 0 0 0 0;\n",
              "      width: 32px;\n",
              "    }\n",
              "\n",
              "    .colab-df-convert:hover {\n",
              "      background-color: #E2EBFA;\n",
              "      box-shadow: 0px 1px 2px rgba(60, 64, 67, 0.3), 0px 1px 3px 1px rgba(60, 64, 67, 0.15);\n",
              "      fill: #174EA6;\n",
              "    }\n",
              "\n",
              "    .colab-df-buttons div {\n",
              "      margin-bottom: 4px;\n",
              "    }\n",
              "\n",
              "    [theme=dark] .colab-df-convert {\n",
              "      background-color: #3B4455;\n",
              "      fill: #D2E3FC;\n",
              "    }\n",
              "\n",
              "    [theme=dark] .colab-df-convert:hover {\n",
              "      background-color: #434B5C;\n",
              "      box-shadow: 0px 1px 3px 1px rgba(0, 0, 0, 0.15);\n",
              "      filter: drop-shadow(0px 1px 2px rgba(0, 0, 0, 0.3));\n",
              "      fill: #FFFFFF;\n",
              "    }\n",
              "  </style>\n",
              "\n",
              "    <script>\n",
              "      const buttonEl =\n",
              "        document.querySelector('#df-3aa8468e-237f-4117-b752-ba6a4f7d0513 button.colab-df-convert');\n",
              "      buttonEl.style.display =\n",
              "        google.colab.kernel.accessAllowed ? 'block' : 'none';\n",
              "\n",
              "      async function convertToInteractive(key) {\n",
              "        const element = document.querySelector('#df-3aa8468e-237f-4117-b752-ba6a4f7d0513');\n",
              "        const dataTable =\n",
              "          await google.colab.kernel.invokeFunction('convertToInteractive',\n",
              "                                                    [key], {});\n",
              "        if (!dataTable) return;\n",
              "\n",
              "        const docLinkHtml = 'Like what you see? Visit the ' +\n",
              "          '<a target=\"_blank\" href=https://colab.research.google.com/notebooks/data_table.ipynb>data table notebook</a>'\n",
              "          + ' to learn more about interactive tables.';\n",
              "        element.innerHTML = '';\n",
              "        dataTable['output_type'] = 'display_data';\n",
              "        await google.colab.output.renderOutput(dataTable, element);\n",
              "        const docLink = document.createElement('div');\n",
              "        docLink.innerHTML = docLinkHtml;\n",
              "        element.appendChild(docLink);\n",
              "      }\n",
              "    </script>\n",
              "  </div>\n",
              "\n",
              "\n",
              "<div id=\"df-4253f966-cba3-4772-91a7-40ce6c877525\">\n",
              "  <button class=\"colab-df-quickchart\" onclick=\"quickchart('df-4253f966-cba3-4772-91a7-40ce6c877525')\"\n",
              "            title=\"Suggest charts\"\n",
              "            style=\"display:none;\">\n",
              "\n",
              "<svg xmlns=\"http://www.w3.org/2000/svg\" height=\"24px\"viewBox=\"0 0 24 24\"\n",
              "     width=\"24px\">\n",
              "    <g>\n",
              "        <path d=\"M19 3H5c-1.1 0-2 .9-2 2v14c0 1.1.9 2 2 2h14c1.1 0 2-.9 2-2V5c0-1.1-.9-2-2-2zM9 17H7v-7h2v7zm4 0h-2V7h2v10zm4 0h-2v-4h2v4z\"/>\n",
              "    </g>\n",
              "</svg>\n",
              "  </button>\n",
              "\n",
              "<style>\n",
              "  .colab-df-quickchart {\n",
              "      --bg-color: #E8F0FE;\n",
              "      --fill-color: #1967D2;\n",
              "      --hover-bg-color: #E2EBFA;\n",
              "      --hover-fill-color: #174EA6;\n",
              "      --disabled-fill-color: #AAA;\n",
              "      --disabled-bg-color: #DDD;\n",
              "  }\n",
              "\n",
              "  [theme=dark] .colab-df-quickchart {\n",
              "      --bg-color: #3B4455;\n",
              "      --fill-color: #D2E3FC;\n",
              "      --hover-bg-color: #434B5C;\n",
              "      --hover-fill-color: #FFFFFF;\n",
              "      --disabled-bg-color: #3B4455;\n",
              "      --disabled-fill-color: #666;\n",
              "  }\n",
              "\n",
              "  .colab-df-quickchart {\n",
              "    background-color: var(--bg-color);\n",
              "    border: none;\n",
              "    border-radius: 50%;\n",
              "    cursor: pointer;\n",
              "    display: none;\n",
              "    fill: var(--fill-color);\n",
              "    height: 32px;\n",
              "    padding: 0;\n",
              "    width: 32px;\n",
              "  }\n",
              "\n",
              "  .colab-df-quickchart:hover {\n",
              "    background-color: var(--hover-bg-color);\n",
              "    box-shadow: 0 1px 2px rgba(60, 64, 67, 0.3), 0 1px 3px 1px rgba(60, 64, 67, 0.15);\n",
              "    fill: var(--button-hover-fill-color);\n",
              "  }\n",
              "\n",
              "  .colab-df-quickchart-complete:disabled,\n",
              "  .colab-df-quickchart-complete:disabled:hover {\n",
              "    background-color: var(--disabled-bg-color);\n",
              "    fill: var(--disabled-fill-color);\n",
              "    box-shadow: none;\n",
              "  }\n",
              "\n",
              "  .colab-df-spinner {\n",
              "    border: 2px solid var(--fill-color);\n",
              "    border-color: transparent;\n",
              "    border-bottom-color: var(--fill-color);\n",
              "    animation:\n",
              "      spin 1s steps(1) infinite;\n",
              "  }\n",
              "\n",
              "  @keyframes spin {\n",
              "    0% {\n",
              "      border-color: transparent;\n",
              "      border-bottom-color: var(--fill-color);\n",
              "      border-left-color: var(--fill-color);\n",
              "    }\n",
              "    20% {\n",
              "      border-color: transparent;\n",
              "      border-left-color: var(--fill-color);\n",
              "      border-top-color: var(--fill-color);\n",
              "    }\n",
              "    30% {\n",
              "      border-color: transparent;\n",
              "      border-left-color: var(--fill-color);\n",
              "      border-top-color: var(--fill-color);\n",
              "      border-right-color: var(--fill-color);\n",
              "    }\n",
              "    40% {\n",
              "      border-color: transparent;\n",
              "      border-right-color: var(--fill-color);\n",
              "      border-top-color: var(--fill-color);\n",
              "    }\n",
              "    60% {\n",
              "      border-color: transparent;\n",
              "      border-right-color: var(--fill-color);\n",
              "    }\n",
              "    80% {\n",
              "      border-color: transparent;\n",
              "      border-right-color: var(--fill-color);\n",
              "      border-bottom-color: var(--fill-color);\n",
              "    }\n",
              "    90% {\n",
              "      border-color: transparent;\n",
              "      border-bottom-color: var(--fill-color);\n",
              "    }\n",
              "  }\n",
              "</style>\n",
              "\n",
              "  <script>\n",
              "    async function quickchart(key) {\n",
              "      const quickchartButtonEl =\n",
              "        document.querySelector('#' + key + ' button');\n",
              "      quickchartButtonEl.disabled = true;  // To prevent multiple clicks.\n",
              "      quickchartButtonEl.classList.add('colab-df-spinner');\n",
              "      try {\n",
              "        const charts = await google.colab.kernel.invokeFunction(\n",
              "            'suggestCharts', [key], {});\n",
              "      } catch (error) {\n",
              "        console.error('Error during call to suggestCharts:', error);\n",
              "      }\n",
              "      quickchartButtonEl.classList.remove('colab-df-spinner');\n",
              "      quickchartButtonEl.classList.add('colab-df-quickchart-complete');\n",
              "    }\n",
              "    (() => {\n",
              "      let quickchartButtonEl =\n",
              "        document.querySelector('#df-4253f966-cba3-4772-91a7-40ce6c877525 button');\n",
              "      quickchartButtonEl.style.display =\n",
              "        google.colab.kernel.accessAllowed ? 'block' : 'none';\n",
              "    })();\n",
              "  </script>\n",
              "</div>\n",
              "    </div>\n",
              "  </div>\n"
            ]
          },
          "metadata": {},
          "execution_count": 14
        }
      ]
    },
    {
      "cell_type": "markdown",
      "source": [
        "### Variables Description"
      ],
      "metadata": {
        "id": "PBTbrJXOngz2"
      }
    },
    {
      "cell_type": "markdown",
      "source": [
        "Answer Here\n",
        "\n",
        "My Dataset named as df contains the following columns as  ['id', 'name', 'host_id', 'host_name', 'neighbourhood_group',\n",
        "       'neighbourhood', 'latitude', 'longitude', 'room_type', 'price',\n",
        "       'minimum_nights', 'number_of_reviews', 'last_review',\n",
        "       'reviews_per_month', 'calculated_host_listings_count',\n",
        "       'availability_365'].  Here 'id' consists of unique id, 'name' consists of name of the listing, 'host_id' consists of unique host id, 'host_name' consists of name of the host, 'neighbourhood_group' consists of location, 'neighbourhood' consists of area, 'latitude' consists of latitude range, 'longitude' consists of longitude range,\n",
        " 'room_type' consists of type of listing, 'price' consists of price of listing, 'minimum_nights' consists of minimum nights to be paid for, 'number_of_reviews' contains actual number of reviews, 'last_review' contains contents of the last review, 'reviews_per_month' consist of number of checks per month, 'calculated_host_listings_count' contains total count and availability_365' contains availibility around the year."
      ],
      "metadata": {
        "id": "aJV4KIxSnxay"
      }
    },
    {
      "cell_type": "markdown",
      "source": [
        "### Check Unique Values for each variable."
      ],
      "metadata": {
        "id": "u3PMJOP6ngxN"
      }
    },
    {
      "cell_type": "code",
      "source": [
        "# Check Unique Values for each variable.\n",
        "df['id'].unique()"
      ],
      "metadata": {
        "id": "zms12Yq5n-jE",
        "colab": {
          "base_uri": "https://localhost:8080/"
        },
        "outputId": "ad74b972-feb9-4330-c22c-052d5dd86ded"
      },
      "execution_count": 15,
      "outputs": [
        {
          "output_type": "execute_result",
          "data": {
            "text/plain": [
              "array([    2539,     2595,     3831, ..., 36438336, 36442252, 36455809])"
            ]
          },
          "metadata": {},
          "execution_count": 15
        }
      ]
    },
    {
      "cell_type": "code",
      "source": [
        "df['name'].unique()"
      ],
      "metadata": {
        "colab": {
          "base_uri": "https://localhost:8080/"
        },
        "id": "_IYZVKqyd78l",
        "outputId": "3d01b319-e7f1-40cb-b07b-4460bb0f504b"
      },
      "execution_count": 16,
      "outputs": [
        {
          "output_type": "execute_result",
          "data": {
            "text/plain": [
              "array(['Clean & quiet apt home by the park', 'Skylit Midtown Castle',\n",
              "       'Cozy Entire Floor of Brownstone', ..., 'Seas The Moment',\n",
              "       '1B-1B apartment near by Metro',\n",
              "       'Cozy Private Room in Bushwick, Brooklyn'], dtype=object)"
            ]
          },
          "metadata": {},
          "execution_count": 16
        }
      ]
    },
    {
      "cell_type": "code",
      "source": [
        "df['host_id'].unique()"
      ],
      "metadata": {
        "colab": {
          "base_uri": "https://localhost:8080/"
        },
        "id": "IHpqCLcNeBpz",
        "outputId": "81696f68-47cb-437d-90fc-842e11b26724"
      },
      "execution_count": 17,
      "outputs": [
        {
          "output_type": "execute_result",
          "data": {
            "text/plain": [
              "array([     2787,      2845,      4869, ..., 211644523, 273841667,\n",
              "        74162901])"
            ]
          },
          "metadata": {},
          "execution_count": 17
        }
      ]
    },
    {
      "cell_type": "code",
      "source": [
        "df['host_name'].unique()"
      ],
      "metadata": {
        "colab": {
          "base_uri": "https://localhost:8080/"
        },
        "id": "HMZ3BtgceJmc",
        "outputId": "af974dcc-ba33-4ff1-d6c0-617e0f09d551"
      },
      "execution_count": null,
      "outputs": [
        {
          "output_type": "execute_result",
          "data": {
            "text/plain": [
              "array(['John', 'Jennifer', 'Elisabeth', ..., 'Abayomi', 'Alberth',\n",
              "       'Ilgar & Aysel'], dtype=object)"
            ]
          },
          "metadata": {},
          "execution_count": 52
        }
      ]
    },
    {
      "cell_type": "code",
      "source": [
        "df['neighbourhood_group'].unique()"
      ],
      "metadata": {
        "colab": {
          "base_uri": "https://localhost:8080/"
        },
        "id": "ZH8Zu0xHePf7",
        "outputId": "ceef25e4-34a6-4eb5-fb37-656f45ddb059"
      },
      "execution_count": null,
      "outputs": [
        {
          "output_type": "execute_result",
          "data": {
            "text/plain": [
              "array(['Brooklyn', 'Manhattan', 'Queens', 'Staten Island', 'Bronx'],\n",
              "      dtype=object)"
            ]
          },
          "metadata": {},
          "execution_count": 53
        }
      ]
    },
    {
      "cell_type": "code",
      "source": [
        "df['neighbourhood'].unique()"
      ],
      "metadata": {
        "colab": {
          "base_uri": "https://localhost:8080/"
        },
        "id": "hmAhBW0teQLH",
        "outputId": "0b443176-77b6-4d8a-986d-ac0f6b8a6d88"
      },
      "execution_count": null,
      "outputs": [
        {
          "output_type": "execute_result",
          "data": {
            "text/plain": [
              "array(['Kensington', 'Midtown', 'Harlem', 'Clinton Hill', 'East Harlem',\n",
              "       'Murray Hill', 'Bedford-Stuyvesant', \"Hell's Kitchen\",\n",
              "       'Upper West Side', 'Chinatown', 'South Slope', 'West Village',\n",
              "       'Williamsburg', 'Fort Greene', 'Chelsea', 'Crown Heights',\n",
              "       'Park Slope', 'Windsor Terrace', 'Inwood', 'East Village',\n",
              "       'Greenpoint', 'Bushwick', 'Flatbush', 'Lower East Side',\n",
              "       'Prospect-Lefferts Gardens', 'Long Island City', 'Kips Bay',\n",
              "       'SoHo', 'Upper East Side', 'Prospect Heights',\n",
              "       'Washington Heights', 'Woodside', 'Brooklyn Heights',\n",
              "       'Carroll Gardens', 'Gowanus', 'Flatlands', 'Cobble Hill',\n",
              "       'Flushing', 'Boerum Hill', 'Sunnyside', 'DUMBO', 'St. George',\n",
              "       'Highbridge', 'Financial District', 'Ridgewood',\n",
              "       'Morningside Heights', 'Jamaica', 'Middle Village', 'NoHo',\n",
              "       'Ditmars Steinway', 'Flatiron District', 'Roosevelt Island',\n",
              "       'Greenwich Village', 'Little Italy', 'East Flatbush',\n",
              "       'Tompkinsville', 'Astoria', 'Clason Point', 'Eastchester',\n",
              "       'Kingsbridge', 'Two Bridges', 'Queens Village', 'Rockaway Beach',\n",
              "       'Forest Hills', 'Nolita', 'Woodlawn', 'University Heights',\n",
              "       'Gravesend', 'Gramercy', 'Allerton', 'East New York',\n",
              "       'Theater District', 'Concourse Village', 'Sheepshead Bay',\n",
              "       'Emerson Hill', 'Fort Hamilton', 'Bensonhurst', 'Tribeca',\n",
              "       'Shore Acres', 'Sunset Park', 'Concourse', 'Elmhurst',\n",
              "       'Brighton Beach', 'Jackson Heights', 'Cypress Hills', 'St. Albans',\n",
              "       'Arrochar', 'Rego Park', 'Wakefield', 'Clifton', 'Bay Ridge',\n",
              "       'Graniteville', 'Spuyten Duyvil', 'Stapleton', 'Briarwood',\n",
              "       'Ozone Park', 'Columbia St', 'Vinegar Hill', 'Mott Haven',\n",
              "       'Longwood', 'Canarsie', 'Battery Park City', 'Civic Center',\n",
              "       'East Elmhurst', 'New Springville', 'Morris Heights', 'Arverne',\n",
              "       'Cambria Heights', 'Tottenville', 'Mariners Harbor', 'Concord',\n",
              "       'Borough Park', 'Bayside', 'Downtown Brooklyn', 'Port Morris',\n",
              "       'Fieldston', 'Kew Gardens', 'Midwood', 'College Point',\n",
              "       'Mount Eden', 'City Island', 'Glendale', 'Port Richmond',\n",
              "       'Red Hook', 'Richmond Hill', 'Bellerose', 'Maspeth',\n",
              "       'Williamsbridge', 'Soundview', 'Woodhaven', 'Woodrow',\n",
              "       'Co-op City', 'Stuyvesant Town', 'Parkchester', 'North Riverdale',\n",
              "       'Dyker Heights', 'Bronxdale', 'Sea Gate', 'Riverdale',\n",
              "       'Kew Gardens Hills', 'Bay Terrace', 'Norwood', 'Claremont Village',\n",
              "       'Whitestone', 'Fordham', 'Bayswater', 'Navy Yard', 'Brownsville',\n",
              "       'Eltingville', 'Fresh Meadows', 'Mount Hope', 'Lighthouse Hill',\n",
              "       'Springfield Gardens', 'Howard Beach', 'Belle Harbor',\n",
              "       'Jamaica Estates', 'Van Nest', 'Morris Park', 'West Brighton',\n",
              "       'Far Rockaway', 'South Ozone Park', 'Tremont', 'Corona',\n",
              "       'Great Kills', 'Manhattan Beach', 'Marble Hill', 'Dongan Hills',\n",
              "       'Castleton Corners', 'East Morrisania', 'Hunts Point', 'Neponsit',\n",
              "       'Pelham Bay', 'Randall Manor', 'Throgs Neck', 'Todt Hill',\n",
              "       'West Farms', 'Silver Lake', 'Morrisania', 'Laurelton',\n",
              "       'Grymes Hill', 'Holliswood', 'Pelham Gardens', 'Belmont',\n",
              "       'Rosedale', 'Edgemere', 'New Brighton', 'Midland Beach',\n",
              "       'Baychester', 'Melrose', 'Bergen Beach', 'Richmondtown',\n",
              "       'Howland Hook', 'Schuylerville', 'Coney Island', 'New Dorp Beach',\n",
              "       \"Prince's Bay\", 'South Beach', 'Bath Beach', 'Jamaica Hills',\n",
              "       'Oakwood', 'Castle Hill', 'Hollis', 'Douglaston', 'Huguenot',\n",
              "       'Olinville', 'Edenwald', 'Grant City', 'Westerleigh',\n",
              "       'Bay Terrace, Staten Island', 'Westchester Square', 'Little Neck',\n",
              "       'Fort Wadsworth', 'Rosebank', 'Unionport', 'Mill Basin',\n",
              "       'Arden Heights', \"Bull's Head\", 'New Dorp', 'Rossville',\n",
              "       'Breezy Point', 'Willowbrook'], dtype=object)"
            ]
          },
          "metadata": {},
          "execution_count": 54
        }
      ]
    },
    {
      "cell_type": "code",
      "source": [
        "df['latitude'].unique()"
      ],
      "metadata": {
        "colab": {
          "base_uri": "https://localhost:8080/"
        },
        "id": "z_qgG2eseQ1c",
        "outputId": "500a2679-f9f7-4005-c5fa-bc03fbd7d026"
      },
      "execution_count": null,
      "outputs": [
        {
          "output_type": "execute_result",
          "data": {
            "text/plain": [
              "array([40.64749, 40.75362, 40.80902, ..., 40.80953, 40.70184, 40.81475])"
            ]
          },
          "metadata": {},
          "execution_count": 55
        }
      ]
    },
    {
      "cell_type": "code",
      "source": [
        "df['longitude'].unique()"
      ],
      "metadata": {
        "colab": {
          "base_uri": "https://localhost:8080/"
        },
        "id": "LJJFZJgCeRqu",
        "outputId": "79d955ee-09dc-400c-b242-e0d71d31e0a3"
      },
      "execution_count": null,
      "outputs": [
        {
          "output_type": "execute_result",
          "data": {
            "text/plain": [
              "array([-73.97237, -73.98377, -73.9419 , ..., -73.87727, -73.93614,\n",
              "       -73.80844])"
            ]
          },
          "metadata": {},
          "execution_count": 56
        }
      ]
    },
    {
      "cell_type": "code",
      "source": [
        "df['room_type'].unique()"
      ],
      "metadata": {
        "colab": {
          "base_uri": "https://localhost:8080/"
        },
        "id": "NoUoLkcbeSS7",
        "outputId": "a4b05110-c61c-455e-be78-3eacb62227e8"
      },
      "execution_count": null,
      "outputs": [
        {
          "output_type": "execute_result",
          "data": {
            "text/plain": [
              "array(['Private room', 'Entire home/apt', 'Shared room'], dtype=object)"
            ]
          },
          "metadata": {},
          "execution_count": 58
        }
      ]
    },
    {
      "cell_type": "code",
      "source": [
        "df['price'].unique()"
      ],
      "metadata": {
        "colab": {
          "base_uri": "https://localhost:8080/"
        },
        "id": "4-_ko736eS2t",
        "outputId": "7493cfc4-29eb-4a40-9ec1-2da56f22c81b"
      },
      "execution_count": null,
      "outputs": [
        {
          "output_type": "execute_result",
          "data": {
            "text/plain": [
              "array([  149,   225,   150,    89,    80,   200,    60,    79,   135,\n",
              "          85,   120,   140,   215,    99,   190,   299,   130,   110,\n",
              "          44,   180,    50,    52,    55,    70,    35,    40,    68,\n",
              "         115,   151,   228,   144,    69,    49,   375,   250,   275,\n",
              "         230,    51,    65,   105,    95,   145,   285,    94,   800,\n",
              "         131,    98,   100,   125,   175,   500,   101,   220,    59,\n",
              "         350,   199,   325,   235,   170,   400,    75,    90,   185,\n",
              "          77,    76,   160,   195,   156,   219,   475,   165,   196,\n",
              "          83,   123,   265,   249,   121,    45,    71,    64,   159,\n",
              "         189,   239,   305,   155,    92,    36,    37,   205,    39,\n",
              "         390,   129,   212,   124,   122,   109,   575,   229,   169,\n",
              "         113,   179,   349,   139,   650,    67,   599,   211,   290,\n",
              "          87,   395,   260,    97,   132,   141,   495,   259,    96,\n",
              "         295,   451,   300,    42,   255,    72,    88,   450,   198,\n",
              "          46,    33,   106,    91,  2000,   429,   107,    43,   248,\n",
              "          41,   157,   172,   146,   116,   288,   270,   241,   399,\n",
              "         438,   279,   137,   280,   226,   154,   700,   246,   119,\n",
              "         850,    81,    54,   760,    48,    58,   153,    73,   485,\n",
              "         310,   167,   147,    34,    93,    56,  1300,   127,   402,\n",
              "          30,   240,   385,    47,   209,   192,    86,   245,   499,\n",
              "         387,   178,  3000,   549,    20,    74,   104,   298,   269,\n",
              "         138,   208,   142,   174,   315,   210,   311,    82,   117,\n",
              "         380,   328,   102,   118,   217,   152,   197,   133,   331,\n",
              "         128,   136,   148,  1000,   263,   433,    61,   234,   595,\n",
              "         108,   355,   134,    62,   550,    84,    78,   900,   103,\n",
              "         330,   425,   168,    66,   625,   171,   187,   600,   312,\n",
              "          38,   163,   158,   173,   465,    63,   340,    57,  4000,\n",
              "         999,   289,   166,   176,   339,   191,  2500,   329,   890,\n",
              "          53,   420,   950,   334,  1395,   221,   182,   750,   181,\n",
              "         112,  1500,  1899,   188,   262,   111,   162,    29,   232,\n",
              "        5000,   345,  1100,   224,    10,   194,    31,  1200,   440,\n",
              "         439,   555,   143,   184,   799,   455,   193,   161,   201,\n",
              "        1700,   525,    32,   251,  1999,   480,   320,   164,   272,\n",
              "         177,   560,  6000,   379,   303,   675,   749,  5250,  1550,\n",
              "        1250,  1485,   369,  6500,  2750,  3750,  1600,   975,    25,\n",
              "          18,  2300,   409,   218,   430,  4500,  8000,   795,   414,\n",
              "         126,    16,   785,   370,    22,   316,   264,   318,   273,\n",
              "         308,   365,   216,   545,   860,   540,   233,  1400,   383,\n",
              "         419,  1050,  2695,   985,   360,   699,   227,   247,   895,\n",
              "        9999,   258,  2400,   254,   346,   415,   995,  1763,   510,\n",
              "        1450,   281,    27,    28,   825,   524,   202,   244,   114,\n",
              "         341,   257,   322,   276,   207,   445,   284,   449,   680,\n",
              "        1495,   256,   888,   389,   460, 10000,   222,   243,   267,\n",
              "         398,   386,   319,   238,   374,   490,   335,  1195,   203,\n",
              "         469,   186,   352,   297,   237,   745,   410,  1170,   261,\n",
              "        1150,   434,   590,   899,   304,   296,   183,   531,   214,\n",
              "         655,    24,   477,   372,   206,    26,   587,   204,  1731,\n",
              "        1002,   333,   283,   814,  1800,   278,   421,   690,   619,\n",
              "        2100,   348,   223,   268,   359,   436,   935,   274,   376,\n",
              "         980,   294,   559,   509,   301,   408,  3800,   479,  2350,\n",
              "         822,    23,   407,   489,   252,   672,   378,   584,   894,\n",
              "         643,   462,   649,   302,   321,   534,   748,   487,   236,\n",
              "        1020,    19,  1599,    21,   585,  2590,    11,   640,   459,\n",
              "          12,  2250,   484,   337,   317,    15,  2800,  1475,   615,\n",
              "        2900,   287,     0,   515,  1067,   424,   578,   789,  1795,\n",
              "        1095,   530,  3900,   496,   435,   422,   367,   695,  1177,\n",
              "         790,   253,   573,   766,   231,   840,   577,   589,   949,\n",
              "         358,   213,  2200,   497,  1066,   412,   647,   277,   720,\n",
              "        2010,  3210,  4160,  1046,   271,   416,  1680,  7703,  3518,\n",
              "        6419,  2626,  2103,  8500,  2990,   620,   394,   323,   974,\n",
              "         344,  1333,   780,   347,   393,   309,   483,   737,   470,\n",
              "         689,   639,   848,   403,   471,   377,   282,   314,   478,\n",
              "         670,  2545,  1115,   520,   913,   505,   718,   692,  3600,\n",
              "         307,   306,  1880,   714,   956,   266,   292,  2999,   418,\n",
              "         452,   397,   343,   291,   392,   356,   242,   396,   332,\n",
              "         361,   453,   481,   466,   388,   423,   362,   313,   805,\n",
              "         725,   443,  1350,  3200,   293,   432,   444,  1075,   820,\n",
              "         373,  1750,  1080,  1299,  1295,   519,  1978,  1494,  3512,\n",
              "         382,   404,   503,   472,   454,   431,   468,   498,   612,\n",
              "         488,  1497,  2850,   990,   506,   324,  1315,   446,  7500,\n",
              "        3613,  2600,  4100,   794,  1145,  1306,   336,  5100,   898,\n",
              "         327,   442,   474,  1799,   353,  4200,   616,  6800,   945,\n",
              "         539,   426,   875,   463,   688,   580,   583,   381,  1900,\n",
              "         659,   830,    13,   447,  1099,   428,   920,   930,  2995,\n",
              "         342,   843,   417,  1308,   561,  1369,  1749,   338])"
            ]
          },
          "metadata": {},
          "execution_count": 59
        }
      ]
    },
    {
      "cell_type": "code",
      "source": [
        "df['minimum_nights'].unique()"
      ],
      "metadata": {
        "colab": {
          "base_uri": "https://localhost:8080/"
        },
        "id": "kwnmxcwneTZ0",
        "outputId": "11f3ec33-7d7c-4203-9a08-66735ff32e14"
      },
      "execution_count": null,
      "outputs": [
        {
          "output_type": "execute_result",
          "data": {
            "text/plain": [
              "array([   1,    3,   10,   45,    2,    5,    4,   90,    7,   14,   60,\n",
              "         29,   30,  180,    9,   31,    6,   15,    8,   26,   28,  200,\n",
              "         50,   17,   21,   11,   25,   13,   35,   27,   18,   20,   40,\n",
              "         44,   65,   55,  120,  365,  122,   19,  240,   88,  115,  150,\n",
              "        370,   16,   80,  181,  265,  300,   59,  185,  360,   56,   12,\n",
              "         70,   39,   24,   32, 1000,  110,  270,   22,   75,  250,   62,\n",
              "         23, 1250,  364,   74,  198,  100,  500,   43,   91,  480,   53,\n",
              "         99,  160,   47,  999,  186,  366,   68,   93,   87,  183,  299,\n",
              "        175,   98,  133,  354,   42,   33,   37,  225,  400,  105,  184,\n",
              "        153,  134,  222,   58,  210,  275,  182,  114,   85,   36])"
            ]
          },
          "metadata": {},
          "execution_count": 60
        }
      ]
    },
    {
      "cell_type": "code",
      "source": [
        "df['number_of_reviews'].unique()"
      ],
      "metadata": {
        "colab": {
          "base_uri": "https://localhost:8080/"
        },
        "id": "_8WDoXRbeUD8",
        "outputId": "d14b9be9-dacc-44f8-fdc0-55ada1a31f70"
      },
      "execution_count": null,
      "outputs": [
        {
          "output_type": "execute_result",
          "data": {
            "text/plain": [
              "array([  9,  45,   0, 270,  74,  49, 430, 118, 160,  53, 188, 167, 113,\n",
              "        27, 148, 198, 260, 130,  39,  71,  88,  19,  58, 108,  29, 242,\n",
              "       197, 273, 168, 231, 214, 245,  15,  25,  81,  97,  11, 248,  61,\n",
              "       135, 112,  73,  82, 328, 105, 289, 138,  21,  42,   5,  66, 143,\n",
              "       191,   4, 338, 106, 190,  23, 142,  54,  70,  16,  94, 194,   2,\n",
              "       174,  24, 166,   1,  30, 139, 233,  68,  46, 335, 162, 170, 334,\n",
              "        12, 467,   7,  38, 324, 115, 354, 195,  13,  36,  63, 155, 193,\n",
              "        32,  50,  26, 426, 227,  84,   3,  10, 124, 240, 200,  79,  34,\n",
              "       134, 126, 234, 202,  28, 309,  14,  80, 294, 150,  47, 219, 114,\n",
              "       213,  86,  18, 206, 122,  33,  52,  51, 199,  41, 109, 151, 285,\n",
              "       375,   6, 358, 226, 104, 204, 253, 129,  37,  69, 192,  17, 222,\n",
              "       205, 458, 183, 189, 127,  35, 171,  92, 238,  56, 111, 147, 177,\n",
              "       185,  62, 181, 333, 441, 279, 203, 210,  64, 132,  20,  67, 187,\n",
              "        22,  93,  48, 120,  43,  59,  31, 220, 286, 398,  76, 182,   8,\n",
              "       228, 388, 223, 218,  75, 370, 131, 136,  98, 380, 163, 247, 116,\n",
              "       320, 225,  95, 403, 175, 263, 232,  72, 414, 119, 117, 385, 103,\n",
              "       280,  57, 480, 101,  87, 241,  90,  99, 271,  89, 179, 401,  83,\n",
              "       211, 295, 207, 172, 330, 123,  55, 258, 128,  60, 152, 154, 164,\n",
              "       278, 235, 305, 102,  65,  40, 100, 125, 229, 107, 176, 178, 216,\n",
              "       314, 153, 110, 244, 208, 121, 157, 209,  44, 158, 236, 215,  78,\n",
              "       297,  77, 265, 156, 272, 268, 133, 165, 269, 243, 137, 145, 339,\n",
              "       454, 230, 144, 439, 261, 319, 184, 451, 169, 266, 251, 141, 304,\n",
              "       474,  85, 221, 201, 321, 250, 149, 254, 161, 323, 347, 296,  96,\n",
              "       173, 239, 404, 326, 363, 146, 327, 237, 353,  91, 302, 276, 186,\n",
              "       322, 267, 540, 224, 291, 315, 313, 594, 597, 607, 287, 159, 395,\n",
              "       281, 447, 356, 360, 349, 246, 308, 292, 140, 284, 374, 196, 212,\n",
              "       274, 340, 386, 336, 249, 275, 259, 252, 298, 288, 255, 365, 257,\n",
              "       217, 488, 332, 180, 277, 389, 372, 299, 394, 357, 350, 352, 351,\n",
              "       262, 318, 307, 325, 282, 396, 466, 397, 290, 448, 424, 408, 543,\n",
              "       264, 629, 576, 256, 459, 412, 378, 411, 434, 510, 306, 392, 417,\n",
              "       368, 436, 310, 341])"
            ]
          },
          "metadata": {},
          "execution_count": 62
        }
      ]
    },
    {
      "cell_type": "code",
      "source": [
        "df['last_review'].unique()"
      ],
      "metadata": {
        "colab": {
          "base_uri": "https://localhost:8080/"
        },
        "id": "zg0WMR7leU4T",
        "outputId": "e2fabef4-648c-4a96-f960-89f2cf1c9102"
      },
      "execution_count": null,
      "outputs": [
        {
          "output_type": "execute_result",
          "data": {
            "text/plain": [
              "array(['2018-10-19', '2019-05-21', nan, ..., '2017-12-23', '2018-01-29',\n",
              "       '2018-03-29'], dtype=object)"
            ]
          },
          "metadata": {},
          "execution_count": 63
        }
      ]
    },
    {
      "cell_type": "code",
      "source": [
        "df['reviews_per_month'].unique()"
      ],
      "metadata": {
        "colab": {
          "base_uri": "https://localhost:8080/"
        },
        "id": "RDku7TVUeWE2",
        "outputId": "0cfeb01e-f667-43fc-b625-6f035fa77ba6"
      },
      "execution_count": null,
      "outputs": [
        {
          "output_type": "execute_result",
          "data": {
            "text/plain": [
              "array([2.100e-01, 3.800e-01,       nan, 4.640e+00, 1.000e-01, 5.900e-01,\n",
              "       4.000e-01, 3.470e+00, 9.900e-01, 1.330e+00, 4.300e-01, 1.500e+00,\n",
              "       1.340e+00, 9.100e-01, 2.200e-01, 1.200e+00, 1.720e+00, 2.120e+00,\n",
              "       4.440e+00, 7.000e-02, 1.090e+00, 3.700e-01, 6.100e-01, 7.300e-01,\n",
              "       1.370e+00, 4.900e-01, 1.110e+00, 2.400e-01, 2.040e+00, 1.420e+00,\n",
              "       1.650e+00, 2.370e+00, 6.600e-01, 1.410e+00, 1.960e+00, 1.810e+00,\n",
              "       2.080e+00, 3.900e-01, 2.300e-01, 6.900e-01, 8.400e-01, 2.250e+00,\n",
              "       5.200e-01, 1.160e+00, 1.010e+00, 6.300e-01, 7.000e-01, 2.820e+00,\n",
              "       9.000e-01, 1.700e-01, 2.490e+00, 1.190e+00, 3.000e-01, 1.200e-01,\n",
              "       5.700e-01, 1.600e-01, 4.720e+00, 1.400e+00, 1.260e+00, 1.640e+00,\n",
              "       1.600e+00, 9.200e-01, 2.000e-01, 1.280e+00, 5.400e-01, 6.200e-01,\n",
              "       1.500e-01, 5.300e-01, 1.730e+00, 5.000e-02, 1.540e+00, 2.800e-01,\n",
              "       3.400e+00, 1.570e+00, 1.050e+00, 7.100e-01, 1.100e-01, 2.700e-01,\n",
              "       1.230e+00, 8.700e-01, 2.090e+00, 6.000e-01, 5.500e-01, 3.020e+00,\n",
              "       7.900e-01, 1.460e+00, 1.610e+00, 3.000e+00, 1.300e-01, 4.220e+00,\n",
              "       6.000e-02, 3.010e+00, 3.200e+00, 2.030e+00, 8.000e-02, 1.900e-01,\n",
              "       3.300e-01, 5.800e-01, 2.350e+00, 1.860e+00, 2.900e-01, 4.500e-01,\n",
              "       2.500e-01, 2.000e-02, 3.890e+00, 7.700e-01, 3.000e-02, 4.000e-02,\n",
              "       1.000e-02, 2.190e+00, 7.400e-01, 9.000e-02, 3.200e-01, 1.240e+00,\n",
              "       2.600e+00, 2.600e-01, 2.860e+00, 2.170e+00, 1.660e+00, 9.400e-01,\n",
              "       1.780e+00, 7.800e-01, 1.060e+00, 2.000e+00, 8.000e-01, 7.500e-01,\n",
              "       3.600e-01, 1.790e+00, 1.920e+00, 1.180e+00, 5.000e-01, 1.170e+00,\n",
              "       4.800e-01, 1.850e+00, 1.040e+00, 1.430e+00, 2.690e+00, 3.520e+00,\n",
              "       3.100e-01, 3.440e+00, 1.000e+00, 1.450e+00, 3.040e+00, 1.220e+00,\n",
              "       1.130e+00, 3.500e-01, 6.500e-01, 1.840e+00, 9.600e-01, 2.100e+00,\n",
              "       4.580e+00, 6.700e-01, 1.800e-01, 1.830e+00, 1.820e+00, 1.300e+00,\n",
              "       3.400e-01, 2.210e+00, 1.800e+00, 2.300e+00, 2.130e+00, 1.440e+00,\n",
              "       1.710e+00, 1.770e+00, 3.190e+00, 4.500e+00, 4.600e-01, 2.390e+00,\n",
              "       1.380e+00, 4.100e-01, 1.400e-01, 3.550e+00, 2.270e+00, 1.270e+00,\n",
              "       1.310e+00, 1.870e+00, 5.600e-01, 9.300e-01, 6.800e-01, 1.250e+00,\n",
              "       1.880e+00, 4.200e-01, 4.400e-01, 2.010e+00, 2.810e+00, 3.970e+00,\n",
              "       7.600e-01, 5.100e-01, 8.500e-01, 2.400e+00, 1.070e+00, 3.880e+00,\n",
              "       2.220e+00, 1.510e+00, 2.260e+00, 1.210e+00, 3.740e+00, 1.760e+00,\n",
              "       1.680e+00, 3.830e+00, 2.530e+00, 2.510e+00, 3.230e+00, 4.100e+00,\n",
              "       1.550e+00, 2.410e+00, 7.200e-01, 8.600e-01, 2.180e+00, 4.340e+00,\n",
              "       2.140e+00, 4.000e+00, 1.080e+00, 2.330e+00, 2.310e+00, 2.920e+00,\n",
              "       8.900e-01, 1.940e+00, 6.700e+00, 4.700e-01, 4.600e+00, 9.500e-01,\n",
              "       2.840e+00, 1.970e+00, 2.020e+00, 6.620e+00, 9.700e-01, 1.290e+00,\n",
              "       3.900e+00, 2.850e+00, 1.620e+00, 7.140e+00, 2.700e+00, 2.900e+00,\n",
              "       1.630e+00, 2.470e+00, 6.400e-01, 2.950e+00, 1.150e+00, 3.240e+00,\n",
              "       1.520e+00, 8.800e-01, 1.360e+00, 1.590e+00, 1.320e+00, 2.590e+00,\n",
              "       2.450e+00, 1.890e+00, 9.800e-01, 2.650e+00, 2.500e+00, 2.830e+00,\n",
              "       3.450e+00, 1.020e+00, 2.740e+00, 1.750e+00, 2.320e+00, 2.380e+00,\n",
              "       2.520e+00, 1.100e+00, 8.200e-01, 1.120e+00, 1.690e+00, 1.390e+00,\n",
              "       2.440e+00, 2.290e+00, 8.100e-01, 2.420e+00, 3.600e+00, 3.370e+00,\n",
              "       2.110e+00, 2.990e+00, 1.470e+00, 1.490e+00, 3.180e+00, 3.090e+00,\n",
              "       2.750e+00, 1.530e+00, 1.140e+00, 3.300e+00, 1.350e+00, 3.150e+00,\n",
              "       2.060e+00, 2.150e+00, 5.270e+00, 8.300e-01, 5.120e+00, 1.560e+00,\n",
              "       3.780e+00, 2.630e+00, 2.540e+00, 3.510e+00, 5.260e+00, 3.850e+00,\n",
              "       2.200e+00, 3.170e+00, 1.030e+00, 3.700e+00, 5.530e+00, 2.550e+00,\n",
              "       1.910e+00, 4.140e+00, 1.950e+00, 3.930e+00, 1.900e+00, 1.990e+00,\n",
              "       3.050e+00, 3.160e+00, 3.530e+00, 4.240e+00, 2.570e+00, 1.980e+00,\n",
              "       3.920e+00, 3.590e+00, 3.560e+00, 2.890e+00, 4.900e+00, 3.960e+00,\n",
              "       4.550e+00, 2.070e+00, 1.930e+00, 1.670e+00, 1.700e+00, 4.010e+00,\n",
              "       1.000e+01, 2.960e+00, 3.350e+00, 2.680e+00, 3.340e+00, 4.160e+00,\n",
              "       2.620e+00, 4.330e+00, 2.790e+00, 3.070e+00, 4.180e+00, 2.340e+00,\n",
              "       3.580e+00, 4.460e+00, 6.950e+00, 2.910e+00, 2.970e+00, 2.360e+00,\n",
              "       3.690e+00, 4.030e+00, 4.090e+00, 7.570e+00, 7.720e+00, 7.750e+00,\n",
              "       5.390e+00, 3.080e+00, 4.300e+00, 5.160e+00, 3.680e+00, 2.460e+00,\n",
              "       5.890e+00, 1.740e+00, 3.140e+00, 4.790e+00, 2.720e+00, 3.220e+00,\n",
              "       3.270e+00, 3.120e+00, 4.730e+00, 4.110e+00, 2.610e+00, 3.800e+00,\n",
              "       2.660e+00, 3.660e+00, 3.870e+00, 2.870e+00, 5.060e+00, 2.670e+00,\n",
              "       3.310e+00, 2.240e+00, 2.230e+00, 4.510e+00, 3.410e+00, 4.670e+00,\n",
              "       5.680e+00, 3.100e+00, 2.780e+00, 5.400e+00, 4.540e+00, 2.640e+00,\n",
              "       2.050e+00, 2.800e+00, 3.280e+00, 4.020e+00, 3.110e+00, 3.320e+00,\n",
              "       4.620e+00, 3.490e+00, 4.430e+00, 3.940e+00, 3.500e+00, 1.580e+00,\n",
              "       3.390e+00, 6.300e+00, 2.770e+00, 4.830e+00, 8.520e+00, 3.630e+00,\n",
              "       4.490e+00, 3.460e+00, 4.710e+00, 3.610e+00, 3.360e+00, 3.820e+00,\n",
              "       3.250e+00, 3.130e+00, 2.980e+00, 3.420e+00, 3.380e+00, 3.290e+00,\n",
              "       4.820e+00, 3.030e+00, 4.320e+00, 3.330e+00, 4.290e+00, 4.910e+00,\n",
              "       4.310e+00, 1.480e+00, 2.930e+00, 2.710e+00, 2.430e+00, 3.620e+00,\n",
              "       2.280e+00, 4.270e+00, 5.200e+00, 4.200e+00, 5.540e+00, 4.050e+00,\n",
              "       3.670e+00, 4.070e+00, 5.810e+00, 3.260e+00, 4.840e+00, 4.570e+00,\n",
              "       3.060e+00, 3.720e+00, 4.360e+00, 4.690e+00, 3.540e+00, 2.880e+00,\n",
              "       4.210e+00, 3.950e+00, 2.730e+00, 8.140e+00, 3.480e+00, 3.790e+00,\n",
              "       5.570e+00, 4.120e+00, 5.960e+00, 4.950e+00, 2.480e+00, 6.510e+00,\n",
              "       4.630e+00, 6.230e+00, 5.040e+00, 5.460e+00, 4.370e+00, 5.030e+00,\n",
              "       6.760e+00, 4.990e+00, 5.000e+00, 2.760e+00, 2.580e+00, 4.130e+00,\n",
              "       3.760e+00, 5.020e+00, 3.640e+00, 3.990e+00, 6.790e+00, 6.190e+00,\n",
              "       2.560e+00, 6.220e+00, 3.910e+00, 6.050e+00, 5.600e+00, 6.100e+00,\n",
              "       6.090e+00, 4.660e+00, 2.940e+00, 4.150e+00, 5.900e+00, 6.310e+00,\n",
              "       7.530e+00, 3.810e+00, 3.210e+00, 4.400e+00, 8.210e+00, 4.650e+00,\n",
              "       5.780e+00, 3.430e+00, 5.440e+00, 4.450e+00, 5.660e+00, 1.345e+01,\n",
              "       2.160e+00, 3.860e+00, 6.770e+00, 4.080e+00, 4.390e+00, 4.380e+00,\n",
              "       3.750e+00, 5.510e+00, 4.420e+00, 5.720e+00, 7.710e+00, 5.290e+00,\n",
              "       9.160e+00, 5.170e+00, 5.920e+00, 4.870e+00, 7.970e+00, 4.940e+00,\n",
              "       8.820e+00, 3.710e+00, 4.590e+00, 4.480e+00, 5.280e+00, 3.570e+00,\n",
              "       4.850e+00, 3.650e+00, 4.700e+00, 5.370e+00, 4.260e+00, 9.630e+00,\n",
              "       4.560e+00, 5.410e+00, 5.130e+00, 5.450e+00, 5.090e+00, 8.860e+00,\n",
              "       8.560e+00, 4.190e+00, 4.170e+00, 6.610e+00, 4.780e+00, 5.360e+00,\n",
              "       7.310e+00, 6.370e+00, 6.260e+00, 7.070e+00, 4.980e+00, 1.159e+01,\n",
              "       4.060e+00, 4.350e+00, 4.530e+00, 4.680e+00, 5.420e+00, 5.980e+00,\n",
              "       5.220e+00, 5.610e+00, 4.230e+00, 6.460e+00, 5.650e+00, 5.850e+00,\n",
              "       5.590e+00, 5.940e+00, 5.110e+00, 5.180e+00, 1.458e+01, 4.470e+00,\n",
              "       4.770e+00, 6.570e+00, 4.890e+00, 6.120e+00, 4.800e+00, 5.620e+00,\n",
              "       3.980e+00, 6.250e+00, 5.950e+00, 1.340e+01, 5.490e+00, 1.072e+01,\n",
              "       5.250e+00, 4.040e+00, 5.340e+00, 4.760e+00, 3.770e+00, 5.870e+00,\n",
              "       5.010e+00, 6.080e+00, 5.830e+00, 4.520e+00, 9.260e+00, 5.080e+00,\n",
              "       7.380e+00, 1.019e+01, 6.780e+00, 6.020e+00, 5.070e+00, 5.710e+00,\n",
              "       4.610e+00, 6.380e+00, 4.250e+00, 9.670e+00, 5.970e+00, 3.840e+00,\n",
              "       4.810e+00, 6.680e+00, 6.150e+00, 5.240e+00, 4.740e+00, 4.860e+00,\n",
              "       7.450e+00, 5.150e+00, 5.140e+00, 3.730e+00, 4.880e+00, 6.000e+00,\n",
              "       6.740e+00, 5.790e+00, 9.610e+00, 9.300e+00, 6.360e+00, 1.140e+01,\n",
              "       7.100e+00, 5.300e+00, 5.630e+00, 5.430e+00, 9.240e+00, 4.750e+00,\n",
              "       4.930e+00, 6.070e+00, 9.390e+00, 1.284e+01, 6.910e+00, 5.210e+00,\n",
              "       5.880e+00, 6.130e+00, 4.410e+00, 5.470e+00, 6.350e+00, 6.400e+00,\n",
              "       6.970e+00, 6.710e+00, 6.550e+00, 6.010e+00, 6.640e+00, 6.540e+00,\n",
              "       6.450e+00, 6.900e+00, 7.280e+00, 5.690e+00, 8.180e+00, 9.830e+00,\n",
              "       1.622e+01, 5.750e+00, 1.064e+01, 8.170e+00, 9.820e+00, 5.310e+00,\n",
              "       5.350e+00, 8.330e+00, 8.790e+00, 7.230e+00, 4.960e+00, 1.315e+01,\n",
              "       5.320e+00, 7.180e+00, 1.436e+01, 9.660e+00, 6.170e+00, 6.030e+00,\n",
              "       5.700e+00, 5.230e+00, 1.348e+01, 1.191e+01, 5.190e+00, 8.580e+00,\n",
              "       5.740e+00, 4.280e+00, 1.060e+01, 7.960e+00, 1.172e+01, 6.650e+00,\n",
              "       1.324e+01, 7.000e+00, 8.070e+00, 5.580e+00, 7.120e+00, 6.920e+00,\n",
              "       1.603e+01, 5.050e+00, 7.040e+00, 5.840e+00, 1.034e+01, 5.330e+00,\n",
              "       7.050e+00, 7.840e+00, 7.660e+00, 7.790e+00, 5.990e+00, 5.820e+00,\n",
              "       8.160e+00, 5.910e+00, 5.770e+00, 1.156e+01, 7.640e+00, 5.550e+00,\n",
              "       7.650e+00, 5.730e+00, 5.860e+00, 7.270e+00, 6.590e+00, 1.327e+01,\n",
              "       4.970e+00, 7.760e+00, 6.210e+00, 6.600e+00, 6.580e+00, 5.760e+00,\n",
              "       7.500e+00, 6.180e+00, 6.270e+00, 6.440e+00, 6.870e+00, 8.750e+00,\n",
              "       8.950e+00, 5.480e+00, 7.330e+00, 5.380e+00, 1.039e+01, 7.430e+00,\n",
              "       7.190e+00, 1.299e+01, 8.870e+00, 5.800e+00, 5.500e+00, 1.975e+01,\n",
              "       6.290e+00, 9.410e+00, 1.254e+01, 7.240e+00, 1.028e+01, 1.038e+01,\n",
              "       8.920e+00, 8.240e+00, 1.086e+01, 7.900e+00, 8.570e+00, 1.015e+01,\n",
              "       8.740e+00, 5.670e+00, 5.100e+00, 8.430e+00, 1.782e+01, 6.800e+00,\n",
              "       8.680e+00, 7.390e+00, 7.470e+00, 1.117e+01, 6.940e+00, 1.681e+01,\n",
              "       7.670e+00, 7.870e+00, 7.550e+00, 5.560e+00, 9.530e+00, 8.270e+00,\n",
              "       6.110e+00, 7.980e+00, 8.060e+00, 6.560e+00, 7.030e+00, 6.730e+00,\n",
              "       6.960e+00, 6.420e+00, 8.320e+00, 5.930e+00, 6.340e+00, 7.080e+00,\n",
              "       9.740e+00, 9.130e+00, 6.060e+00, 8.250e+00, 8.380e+00, 9.430e+00,\n",
              "       7.200e+00, 7.770e+00, 7.690e+00, 7.590e+00, 7.130e+00, 4.920e+00,\n",
              "       9.970e+00, 9.470e+00, 6.240e+00, 5.520e+00, 7.940e+00, 8.930e+00,\n",
              "       7.260e+00, 7.320e+00, 1.168e+01, 5.640e+00, 8.690e+00, 7.010e+00,\n",
              "       8.000e+00, 6.280e+00, 7.920e+00, 9.170e+00, 8.640e+00, 6.200e+00,\n",
              "       6.480e+00, 1.205e+01, 7.340e+00, 6.990e+00, 7.700e+00, 6.040e+00,\n",
              "       1.077e+01, 7.610e+00, 1.012e+01, 8.840e+00, 8.290e+00, 9.340e+00,\n",
              "       7.560e+00, 6.500e+00, 7.210e+00, 6.840e+00, 9.360e+00, 7.580e+00,\n",
              "       8.310e+00, 8.020e+00, 8.720e+00, 8.400e+00, 7.420e+00, 1.578e+01,\n",
              "       7.990e+00, 9.580e+00, 8.970e+00, 6.860e+00, 8.620e+00, 6.410e+00,\n",
              "       7.410e+00, 6.720e+00, 1.311e+01, 6.140e+00, 7.250e+00, 6.430e+00,\n",
              "       8.350e+00, 1.103e+01, 7.830e+00, 1.029e+01, 9.090e+00, 6.320e+00,\n",
              "       6.670e+00, 8.990e+00, 9.620e+00, 6.750e+00, 1.067e+01, 7.600e+00,\n",
              "       8.440e+00, 9.120e+00, 8.510e+00, 7.910e+00, 2.094e+01, 6.880e+00,\n",
              "       6.830e+00, 9.150e+00, 7.110e+00, 9.500e+00, 9.290e+00, 9.640e+00,\n",
              "       1.005e+01, 9.030e+00, 1.330e+01, 1.523e+01, 9.080e+00, 1.138e+01,\n",
              "       7.360e+00, 8.110e+00, 9.330e+00, 1.532e+01, 7.890e+00, 8.470e+00,\n",
              "       8.030e+00, 9.560e+00, 8.500e+00, 1.036e+01, 9.930e+00, 9.100e+00,\n",
              "       9.230e+00, 6.390e+00, 8.450e+00, 8.480e+00, 9.680e+00, 6.490e+00,\n",
              "       7.170e+00, 1.313e+01, 9.850e+00, 5.850e+01, 2.795e+01, 1.462e+01,\n",
              "       6.690e+00, 8.370e+00, 6.630e+00, 7.880e+00, 7.850e+00, 7.300e+00,\n",
              "       7.020e+00, 7.220e+00, 7.290e+00, 1.037e+01, 9.210e+00, 6.470e+00,\n",
              "       1.212e+01, 6.530e+00, 1.121e+01, 6.520e+00, 9.070e+00, 8.940e+00,\n",
              "       1.200e+01, 6.820e+00, 8.730e+00, 9.400e+00, 1.017e+01, 1.125e+01,\n",
              "       7.160e+00, 1.333e+01, 1.056e+01, 7.060e+00, 9.000e+00, 1.031e+01,\n",
              "       1.400e+01, 7.630e+00, 1.211e+01, 1.184e+01, 1.114e+01, 1.116e+01,\n",
              "       9.780e+00, 1.342e+01, 1.023e+01, 7.860e+00, 1.171e+01, 9.730e+00,\n",
              "       1.091e+01, 1.054e+01])"
            ]
          },
          "metadata": {},
          "execution_count": 64
        }
      ]
    },
    {
      "cell_type": "code",
      "source": [
        "df['calculated_host_listings_count'].unique()"
      ],
      "metadata": {
        "colab": {
          "base_uri": "https://localhost:8080/"
        },
        "id": "3oafzeBVeWqp",
        "outputId": "6d0d879d-9b8a-401c-a14c-056292abfd4e"
      },
      "execution_count": null,
      "outputs": [
        {
          "output_type": "execute_result",
          "data": {
            "text/plain": [
              "array([  6,   2,   1,   4,   3,   5,   7,  13,  28,  11,   8,   9,  52,\n",
              "        18,  15,  19,  10,  39,  26,  29,  12,  21,  96,  14,  34,  43,\n",
              "       121,  37,  49,  31,  91,  16,  87,  33,  23,  50,  20,  25, 232,\n",
              "        17,  47, 103,  65,  30,  27, 327,  32])"
            ]
          },
          "metadata": {},
          "execution_count": 65
        }
      ]
    },
    {
      "cell_type": "code",
      "source": [
        "df['availability_365'].unique()"
      ],
      "metadata": {
        "colab": {
          "base_uri": "https://localhost:8080/"
        },
        "id": "NqJpp8HjeXQr",
        "outputId": "04af9c83-307e-41de-a9ac-680d9294c442"
      },
      "execution_count": null,
      "outputs": [
        {
          "output_type": "execute_result",
          "data": {
            "text/plain": [
              "array([365, 355, 194,   0, 129, 220, 188,   6,  39, 314, 333,  46, 321,\n",
              "        12,  21, 249, 347, 364, 304, 233,  85,  75, 311,  67, 255, 284,\n",
              "       359, 269, 340,  22,  96, 345, 273, 309,  95, 215, 265, 192, 251,\n",
              "       302, 140, 234, 257,  30, 301, 294, 320, 154, 263, 180, 231, 297,\n",
              "       292, 191,  72, 362, 336, 116,  88, 224, 322, 324, 132, 295, 238,\n",
              "       209, 328,  38,   7, 272,  26, 288, 317, 207, 185, 158,   9, 198,\n",
              "       219, 342, 312, 243, 152, 137, 222, 346, 208, 279, 250, 164, 298,\n",
              "       260, 107, 199, 299,  20, 318, 216, 245, 189, 307, 310, 213, 278,\n",
              "        16, 178, 275, 163,  34, 280,   1, 170, 214, 248, 262, 339,  10,\n",
              "       290, 230,  53, 126,   3,  37, 353, 177, 246, 225,  18, 343, 326,\n",
              "       162, 240, 363, 247, 323, 125,  91, 286,  60,  58, 351, 201, 232,\n",
              "       258, 341, 244, 329, 253, 348,   2,  56,  68, 360,  76,  15, 226,\n",
              "       349,  11, 316, 281, 287,  14,  86, 261, 331,  51, 254, 103,  42,\n",
              "       325,  35, 203,   5, 276, 102,  71,  78,   8, 182,  79,  49, 156,\n",
              "       200, 106, 135,  81, 142, 179,  52, 237, 204, 181, 296, 335, 282,\n",
              "       274,  98, 157, 174, 223, 361, 283, 315,  36, 271, 139, 193, 136,\n",
              "       277, 221, 264, 236,  89,  23, 218, 235, 119, 350, 161, 259,  27,\n",
              "       167, 358,  59, 337,  43,  25, 127, 303, 115, 268,  44,  65, 252,\n",
              "        64, 111,  90, 338,  31, 241, 285, 183,  84, 166,  28,  83, 305,\n",
              "       356, 308, 229, 210, 153, 332, 120, 313,  69, 293,   4, 300,  40,\n",
              "       117, 206, 144, 354,  41, 270, 306,  33,  50,  80,  97, 118, 134,\n",
              "        17, 289, 121, 205,  74,  62,  29, 109, 168, 146, 242, 352, 155,\n",
              "       291, 266, 101, 190, 327, 217, 171, 110,  87, 202,  70, 147, 169,\n",
              "       212, 122, 330,  54, 196,  57,  73, 149, 239,  63, 195,  47, 319,\n",
              "        19, 112, 344,  77, 160, 141,  13,  24, 150, 128, 176, 357, 211,\n",
              "       172, 256, 165,  32, 105, 267, 148,  93,  45, 175, 159,  48, 100,\n",
              "       184, 114, 133, 186, 334,  94, 151, 228, 113,  55,  66, 173, 104,\n",
              "       197,  99, 131, 143, 124, 130, 187, 145, 108, 123,  92,  61, 138,\n",
              "       227,  82])"
            ]
          },
          "metadata": {},
          "execution_count": 66
        }
      ]
    },
    {
      "cell_type": "markdown",
      "source": [
        "## 3. ***Data Wrangling***"
      ],
      "metadata": {
        "id": "dauF4eBmngu3"
      }
    },
    {
      "cell_type": "code",
      "source": [
        "df.columns"
      ],
      "metadata": {
        "colab": {
          "base_uri": "https://localhost:8080/"
        },
        "id": "PqO35mvVYLtm",
        "outputId": "370ff784-d8d4-4b36-b854-6813be31b8ce"
      },
      "execution_count": 18,
      "outputs": [
        {
          "output_type": "execute_result",
          "data": {
            "text/plain": [
              "Index(['id', 'name', 'host_id', 'host_name', 'neighbourhood_group',\n",
              "       'neighbourhood', 'latitude', 'longitude', 'room_type', 'price',\n",
              "       'minimum_nights', 'number_of_reviews', 'last_review',\n",
              "       'reviews_per_month', 'calculated_host_listings_count',\n",
              "       'availability_365'],\n",
              "      dtype='object')"
            ]
          },
          "metadata": {},
          "execution_count": 18
        }
      ]
    },
    {
      "cell_type": "markdown",
      "source": [
        "### Data Wrangling Code"
      ],
      "metadata": {
        "id": "bKJF3rekwFvQ"
      }
    },
    {
      "cell_type": "code",
      "source": [
        "# Write your code to make your dataset analysis ready.\n"
      ],
      "metadata": {
        "id": "wk-9a2fpoLcV"
      },
      "execution_count": null,
      "outputs": []
    },
    {
      "cell_type": "markdown",
      "source": [
        "### What all manipulations have you done and insights you found?"
      ],
      "metadata": {
        "id": "MSa1f5Uengrz"
      }
    },
    {
      "cell_type": "markdown",
      "source": [
        "Answer Here."
      ],
      "metadata": {
        "id": "LbyXE7I1olp8"
      }
    },
    {
      "cell_type": "markdown",
      "source": [
        "## ***4. Data Vizualization, Storytelling & Experimenting with charts : Understand the relationships between variables***"
      ],
      "metadata": {
        "id": "GF8Ens_Soomf"
      }
    },
    {
      "cell_type": "markdown",
      "source": [
        "#### Chart - 1"
      ],
      "metadata": {
        "id": "0wOQAZs5pc--"
      }
    },
    {
      "cell_type": "code",
      "source": [
        "# Chart - 1 visualization code\n",
        "\n",
        "sns.barplot(data=df, x = 'room_type', y = 'price')\n",
        "plt.title('Room type vs Price')\n",
        "plt.xlabel('Types of room')\n",
        "plt.ylabel('Price of room')\n",
        "plt.show()"
      ],
      "metadata": {
        "id": "7v_ESjsspbW7",
        "colab": {
          "base_uri": "https://localhost:8080/",
          "height": 480
        },
        "outputId": "7dc3fd53-e1fa-4e9c-fcff-abe6f3949e4c"
      },
      "execution_count": 39,
      "outputs": [
        {
          "output_type": "display_data",
          "data": {
            "text/plain": [
              "<Figure size 640x480 with 1 Axes>"
            ],
            "image/png": "[encoded data removed]"
          },
          "metadata": {}
        }
      ]
    },
    {
      "cell_type": "markdown",
      "source": [
        "##### 1. Why did you pick the specific chart?"
      ],
      "metadata": {
        "id": "K5QZ13OEpz2H"
      }
    },
    {
      "cell_type": "markdown",
      "source": [
        "Answer Here.\n",
        "\n",
        "I have created a bar plot to get insights of the prices of rooms according to their types. So from the above mentioned bar plot I can find that the Entire home/apartment is charging the maximum, second highest price is for the private room and the cheapest category is for the shared rooms."
      ],
      "metadata": {
        "id": "XESiWehPqBRc"
      }
    },
    {
      "cell_type": "markdown",
      "source": [
        "##### 2. What is/are the insight(s) found from the chart?"
      ],
      "metadata": {
        "id": "lQ7QKXXCp7Bj"
      }
    },
    {
      "cell_type": "markdown",
      "source": [
        "Answer Here\n",
        "\n",
        "The data obtained from the above bar plot is helpful for the customers who are using the AirBNB portal. They can opt for the room types as per their budgets like if they want premium class accomodation and also having good budget they can choose the entire room/apartment category. The customers who are tarvelling with their partners or their families and need some privacy and also looking for a medium range can opt for private rooms and lastly the people who are travelling in a large group or single and if looking for the cheapest range of rooms, then they must opt for shared rooms."
      ],
      "metadata": {
        "id": "C_j1G7yiqdRP"
      }
    },
    {
      "cell_type": "markdown",
      "source": [
        "##### 3. Will the gained insights help creating a positive business impact?\n",
        "Are there any insights that lead to negative growth? Justify with specific reason."
      ],
      "metadata": {
        "id": "448CDAPjqfQr"
      }
    },
    {
      "cell_type": "markdown",
      "source": [
        "Answer Here\n",
        "\n",
        "Positive Insights:\n",
        "\n",
        "  1)  From the above barplot I can see that the shared room is of the cheapest category, so the people travelling single or in a large group can easily choose as per their convenience.\n",
        "\n",
        "  2)  Secondly, the people who are concerned for their privacy and also have some budget issue they can easily opt for the private rooms.\n",
        "\n",
        "  3)   Lastly, the customers who want premium services they can the apartment type.\n",
        "       So, the most important and the positive side here is that AirBNB has lot of options available for their customers. So according to me, most of the customers will definitely do their booking from AirBNB portal.\n",
        "\n",
        "\n",
        "Negative Insights:\n",
        "The only negative insight which I found here is the price range gap between Apartment and Private room is huge. Although there are premium services available in such classes, but in this era of price hikes wealthy people also do some calculations when going for a tour. So, I would suggest please make some fruitful changes in the prices of apartment classes so that more bookings will be done in the premium class."
      ],
      "metadata": {
        "id": "3cspy4FjqxJW"
      }
    },
    {
      "cell_type": "markdown",
      "source": [
        "#### Chart - 2"
      ],
      "metadata": {
        "id": "KSlN3yHqYklG"
      }
    },
    {
      "cell_type": "code",
      "source": [
        "# Chart - 2 visualization code"
      ],
      "metadata": {
        "id": "R4YgtaqtYklH"
      },
      "execution_count": null,
      "outputs": []
    },
    {
      "cell_type": "markdown",
      "source": [
        "##### 1. Why did you pick the specific chart?"
      ],
      "metadata": {
        "id": "t6dVpIINYklI"
      }
    },
    {
      "cell_type": "markdown",
      "source": [
        "Answer Here."
      ],
      "metadata": {
        "id": "5aaW0BYyYklI"
      }
    },
    {
      "cell_type": "markdown",
      "source": [
        "##### 2. What is/are the insight(s) found from the chart?"
      ],
      "metadata": {
        "id": "ijmpgYnKYklI"
      }
    },
    {
      "cell_type": "markdown",
      "source": [
        "Answer Here"
      ],
      "metadata": {
        "id": "PSx9atu2YklI"
      }
    },
    {
      "cell_type": "markdown",
      "source": [
        "##### 3. Will the gained insights help creating a positive business impact?\n",
        "Are there any insights that lead to negative growth? Justify with specific reason."
      ],
      "metadata": {
        "id": "-JiQyfWJYklI"
      }
    },
    {
      "cell_type": "markdown",
      "source": [
        "Answer Here"
      ],
      "metadata": {
        "id": "BcBbebzrYklV"
      }
    },
    {
      "cell_type": "markdown",
      "source": [
        "#### Chart - 3"
      ],
      "metadata": {
        "id": "EM7whBJCYoAo"
      }
    },
    {
      "cell_type": "code",
      "source": [
        "# Chart - 3 visualization code"
      ],
      "metadata": {
        "id": "t6GMdE67YoAp"
      },
      "execution_count": null,
      "outputs": []
    },
    {
      "cell_type": "markdown",
      "source": [
        "##### 1. Why did you pick the specific chart?"
      ],
      "metadata": {
        "id": "fge-S5ZAYoAp"
      }
    },
    {
      "cell_type": "markdown",
      "source": [
        "Answer Here."
      ],
      "metadata": {
        "id": "5dBItgRVYoAp"
      }
    },
    {
      "cell_type": "markdown",
      "source": [
        "##### 2. What is/are the insight(s) found from the chart?"
      ],
      "metadata": {
        "id": "85gYPyotYoAp"
      }
    },
    {
      "cell_type": "markdown",
      "source": [
        "Answer Here"
      ],
      "metadata": {
        "id": "4jstXR6OYoAp"
      }
    },
    {
      "cell_type": "markdown",
      "source": [
        "##### 3. Will the gained insights help creating a positive business impact?\n",
        "Are there any insights that lead to negative growth? Justify with specific reason."
      ],
      "metadata": {
        "id": "RoGjAbkUYoAp"
      }
    },
    {
      "cell_type": "markdown",
      "source": [
        "Answer Here"
      ],
      "metadata": {
        "id": "zfJ8IqMcYoAp"
      }
    },
    {
      "cell_type": "markdown",
      "source": [
        "#### Chart - 4"
      ],
      "metadata": {
        "id": "4Of9eVA-YrdM"
      }
    },
    {
      "cell_type": "code",
      "source": [
        "# Chart - 4 visualization code"
      ],
      "metadata": {
        "id": "irlUoxc8YrdO"
      },
      "execution_count": null,
      "outputs": []
    },
    {
      "cell_type": "markdown",
      "source": [
        "##### 1. Why did you pick the specific chart?"
      ],
      "metadata": {
        "id": "iky9q4vBYrdO"
      }
    },
    {
      "cell_type": "markdown",
      "source": [
        "Answer Here."
      ],
      "metadata": {
        "id": "aJRCwT6DYrdO"
      }
    },
    {
      "cell_type": "markdown",
      "source": [
        "##### 2. What is/are the insight(s) found from the chart?"
      ],
      "metadata": {
        "id": "F6T5p64dYrdO"
      }
    },
    {
      "cell_type": "markdown",
      "source": [
        "Answer Here"
      ],
      "metadata": {
        "id": "Xx8WAJvtYrdO"
      }
    },
    {
      "cell_type": "markdown",
      "source": [
        "##### 3. Will the gained insights help creating a positive business impact?\n",
        "Are there any insights that lead to negative growth? Justify with specific reason."
      ],
      "metadata": {
        "id": "y-Ehk30pYrdP"
      }
    },
    {
      "cell_type": "markdown",
      "source": [
        "Answer Here"
      ],
      "metadata": {
        "id": "jLNxxz7MYrdP"
      }
    },
    {
      "cell_type": "markdown",
      "source": [
        "#### Chart - 5"
      ],
      "metadata": {
        "id": "bamQiAODYuh1"
      }
    },
    {
      "cell_type": "code",
      "source": [
        "# Chart - 5 visualization code"
      ],
      "metadata": {
        "id": "TIJwrbroYuh3"
      },
      "execution_count": null,
      "outputs": []
    },
    {
      "cell_type": "markdown",
      "source": [
        "##### 1. Why did you pick the specific chart?"
      ],
      "metadata": {
        "id": "QHF8YVU7Yuh3"
      }
    },
    {
      "cell_type": "markdown",
      "source": [
        "Answer Here."
      ],
      "metadata": {
        "id": "dcxuIMRPYuh3"
      }
    },
    {
      "cell_type": "markdown",
      "source": [
        "##### 2. What is/are the insight(s) found from the chart?"
      ],
      "metadata": {
        "id": "GwzvFGzlYuh3"
      }
    },
    {
      "cell_type": "markdown",
      "source": [
        "Answer Here"
      ],
      "metadata": {
        "id": "uyqkiB8YYuh3"
      }
    },
    {
      "cell_type": "markdown",
      "source": [
        "##### 3. Will the gained insights help creating a positive business impact?\n",
        "Are there any insights that lead to negative growth? Justify with specific reason."
      ],
      "metadata": {
        "id": "qYpmQ266Yuh3"
      }
    },
    {
      "cell_type": "markdown",
      "source": [
        "Answer Here"
      ],
      "metadata": {
        "id": "_WtzZ_hCYuh4"
      }
    },
    {
      "cell_type": "markdown",
      "source": [
        "#### Chart - 6"
      ],
      "metadata": {
        "id": "OH-pJp9IphqM"
      }
    },
    {
      "cell_type": "code",
      "source": [
        "# Chart - 6 visualization code"
      ],
      "metadata": {
        "id": "kuRf4wtuphqN"
      },
      "execution_count": null,
      "outputs": []
    },
    {
      "cell_type": "markdown",
      "source": [
        "##### 1. Why did you pick the specific chart?"
      ],
      "metadata": {
        "id": "bbFf2-_FphqN"
      }
    },
    {
      "cell_type": "markdown",
      "source": [
        "Answer Here."
      ],
      "metadata": {
        "id": "loh7H2nzphqN"
      }
    },
    {
      "cell_type": "markdown",
      "source": [
        "##### 2. What is/are the insight(s) found from the chart?"
      ],
      "metadata": {
        "id": "_ouA3fa0phqN"
      }
    },
    {
      "cell_type": "markdown",
      "source": [
        "Answer Here"
      ],
      "metadata": {
        "id": "VECbqPI7phqN"
      }
    },
    {
      "cell_type": "markdown",
      "source": [
        "##### 3. Will the gained insights help creating a positive business impact?\n",
        "Are there any insights that lead to negative growth? Justify with specific reason."
      ],
      "metadata": {
        "id": "Seke61FWphqN"
      }
    },
    {
      "cell_type": "markdown",
      "source": [
        "Answer Here"
      ],
      "metadata": {
        "id": "DW4_bGpfphqN"
      }
    },
    {
      "cell_type": "markdown",
      "source": [
        "#### Chart - 7"
      ],
      "metadata": {
        "id": "PIIx-8_IphqN"
      }
    },
    {
      "cell_type": "code",
      "source": [
        "# Chart - 7 visualization code"
      ],
      "metadata": {
        "id": "lqAIGUfyphqO"
      },
      "execution_count": null,
      "outputs": []
    },
    {
      "cell_type": "markdown",
      "source": [
        "##### 1. Why did you pick the specific chart?"
      ],
      "metadata": {
        "id": "t27r6nlMphqO"
      }
    },
    {
      "cell_type": "markdown",
      "source": [
        "Answer Here."
      ],
      "metadata": {
        "id": "iv6ro40sphqO"
      }
    },
    {
      "cell_type": "markdown",
      "source": [
        "##### 2. What is/are the insight(s) found from the chart?"
      ],
      "metadata": {
        "id": "r2jJGEOYphqO"
      }
    },
    {
      "cell_type": "markdown",
      "source": [
        "Answer Here"
      ],
      "metadata": {
        "id": "Po6ZPi4hphqO"
      }
    },
    {
      "cell_type": "markdown",
      "source": [
        "##### 3. Will the gained insights help creating a positive business impact?\n",
        "Are there any insights that lead to negative growth? Justify with specific reason."
      ],
      "metadata": {
        "id": "b0JNsNcRphqO"
      }
    },
    {
      "cell_type": "markdown",
      "source": [
        "Answer Here"
      ],
      "metadata": {
        "id": "xvSq8iUTphqO"
      }
    },
    {
      "cell_type": "markdown",
      "source": [
        "#### Chart - 8"
      ],
      "metadata": {
        "id": "BZR9WyysphqO"
      }
    },
    {
      "cell_type": "code",
      "source": [
        "# Chart - 8 visualization code"
      ],
      "metadata": {
        "id": "TdPTWpAVphqO"
      },
      "execution_count": null,
      "outputs": []
    },
    {
      "cell_type": "markdown",
      "source": [
        "##### 1. Why did you pick the specific chart?"
      ],
      "metadata": {
        "id": "jj7wYXLtphqO"
      }
    },
    {
      "cell_type": "markdown",
      "source": [
        "Answer Here."
      ],
      "metadata": {
        "id": "Ob8u6rCTphqO"
      }
    },
    {
      "cell_type": "markdown",
      "source": [
        "##### 2. What is/are the insight(s) found from the chart?"
      ],
      "metadata": {
        "id": "eZrbJ2SmphqO"
      }
    },
    {
      "cell_type": "markdown",
      "source": [
        "Answer Here"
      ],
      "metadata": {
        "id": "mZtgC_hjphqO"
      }
    },
    {
      "cell_type": "markdown",
      "source": [
        "##### 3. Will the gained insights help creating a positive business impact?\n",
        "Are there any insights that lead to negative growth? Justify with specific reason."
      ],
      "metadata": {
        "id": "rFu4xreNphqO"
      }
    },
    {
      "cell_type": "markdown",
      "source": [
        "Answer Here"
      ],
      "metadata": {
        "id": "ey_0qi68phqO"
      }
    },
    {
      "cell_type": "markdown",
      "source": [
        "#### Chart - 9"
      ],
      "metadata": {
        "id": "YJ55k-q6phqO"
      }
    },
    {
      "cell_type": "code",
      "source": [
        "# Chart - 9 visualization code"
      ],
      "metadata": {
        "id": "B2aS4O1ophqO"
      },
      "execution_count": null,
      "outputs": []
    },
    {
      "cell_type": "markdown",
      "source": [
        "##### 1. Why did you pick the specific chart?"
      ],
      "metadata": {
        "id": "gCFgpxoyphqP"
      }
    },
    {
      "cell_type": "markdown",
      "source": [
        "Answer Here."
      ],
      "metadata": {
        "id": "TVxDimi2phqP"
      }
    },
    {
      "cell_type": "markdown",
      "source": [
        "##### 2. What is/are the insight(s) found from the chart?"
      ],
      "metadata": {
        "id": "OVtJsKN_phqQ"
      }
    },
    {
      "cell_type": "markdown",
      "source": [
        "Answer Here"
      ],
      "metadata": {
        "id": "ngGi97qjphqQ"
      }
    },
    {
      "cell_type": "markdown",
      "source": [
        "##### 3. Will the gained insights help creating a positive business impact?\n",
        "Are there any insights that lead to negative growth? Justify with specific reason."
      ],
      "metadata": {
        "id": "lssrdh5qphqQ"
      }
    },
    {
      "cell_type": "markdown",
      "source": [
        "Answer Here"
      ],
      "metadata": {
        "id": "tBpY5ekJphqQ"
      }
    },
    {
      "cell_type": "markdown",
      "source": [
        "#### Chart - 10"
      ],
      "metadata": {
        "id": "U2RJ9gkRphqQ"
      }
    },
    {
      "cell_type": "code",
      "source": [
        "# Chart - 10 visualization code"
      ],
      "metadata": {
        "id": "GM7a4YP4phqQ"
      },
      "execution_count": null,
      "outputs": []
    },
    {
      "cell_type": "markdown",
      "source": [
        "##### 1. Why did you pick the specific chart?"
      ],
      "metadata": {
        "id": "1M8mcRywphqQ"
      }
    },
    {
      "cell_type": "markdown",
      "source": [
        "Answer Here."
      ],
      "metadata": {
        "id": "8agQvks0phqQ"
      }
    },
    {
      "cell_type": "markdown",
      "source": [
        "##### 2. What is/are the insight(s) found from the chart?"
      ],
      "metadata": {
        "id": "tgIPom80phqQ"
      }
    },
    {
      "cell_type": "markdown",
      "source": [
        "Answer Here"
      ],
      "metadata": {
        "id": "Qp13pnNzphqQ"
      }
    },
    {
      "cell_type": "markdown",
      "source": [
        "##### 3. Will the gained insights help creating a positive business impact?\n",
        "Are there any insights that lead to negative growth? Justify with specific reason."
      ],
      "metadata": {
        "id": "JMzcOPDDphqR"
      }
    },
    {
      "cell_type": "markdown",
      "source": [
        "Answer Here"
      ],
      "metadata": {
        "id": "R4Ka1PC2phqR"
      }
    },
    {
      "cell_type": "markdown",
      "source": [
        "#### Chart - 11"
      ],
      "metadata": {
        "id": "x-EpHcCOp1ci"
      }
    },
    {
      "cell_type": "code",
      "source": [
        "# Chart - 11 visualization code"
      ],
      "metadata": {
        "id": "mAQTIvtqp1cj"
      },
      "execution_count": null,
      "outputs": []
    },
    {
      "cell_type": "markdown",
      "source": [
        "##### 1. Why did you pick the specific chart?"
      ],
      "metadata": {
        "id": "X_VqEhTip1ck"
      }
    },
    {
      "cell_type": "markdown",
      "source": [
        "Answer Here."
      ],
      "metadata": {
        "id": "-vsMzt_np1ck"
      }
    },
    {
      "cell_type": "markdown",
      "source": [
        "##### 2. What is/are the insight(s) found from the chart?"
      ],
      "metadata": {
        "id": "8zGJKyg5p1ck"
      }
    },
    {
      "cell_type": "markdown",
      "source": [
        "Answer Here"
      ],
      "metadata": {
        "id": "ZYdMsrqVp1ck"
      }
    },
    {
      "cell_type": "markdown",
      "source": [
        "##### 3. Will the gained insights help creating a positive business impact?\n",
        "Are there any insights that lead to negative growth? Justify with specific reason."
      ],
      "metadata": {
        "id": "PVzmfK_Ep1ck"
      }
    },
    {
      "cell_type": "markdown",
      "source": [
        "Answer Here"
      ],
      "metadata": {
        "id": "druuKYZpp1ck"
      }
    },
    {
      "cell_type": "markdown",
      "source": [
        "#### Chart - 12"
      ],
      "metadata": {
        "id": "n3dbpmDWp1ck"
      }
    },
    {
      "cell_type": "code",
      "source": [
        "# Chart - 12 visualization code"
      ],
      "metadata": {
        "id": "bwevp1tKp1ck"
      },
      "execution_count": null,
      "outputs": []
    },
    {
      "cell_type": "markdown",
      "source": [
        "##### 1. Why did you pick the specific chart?"
      ],
      "metadata": {
        "id": "ylSl6qgtp1ck"
      }
    },
    {
      "cell_type": "markdown",
      "source": [
        "Answer Here."
      ],
      "metadata": {
        "id": "m2xqNkiQp1ck"
      }
    },
    {
      "cell_type": "markdown",
      "source": [
        "##### 2. What is/are the insight(s) found from the chart?"
      ],
      "metadata": {
        "id": "ZWILFDl5p1ck"
      }
    },
    {
      "cell_type": "markdown",
      "source": [
        "Answer Here"
      ],
      "metadata": {
        "id": "x-lUsV2mp1ck"
      }
    },
    {
      "cell_type": "markdown",
      "source": [
        "##### 3. Will the gained insights help creating a positive business impact?\n",
        "Are there any insights that lead to negative growth? Justify with specific reason."
      ],
      "metadata": {
        "id": "M7G43BXep1ck"
      }
    },
    {
      "cell_type": "markdown",
      "source": [
        "Answer Here"
      ],
      "metadata": {
        "id": "5wwDJXsLp1cl"
      }
    },
    {
      "cell_type": "markdown",
      "source": [
        "#### Chart - 13"
      ],
      "metadata": {
        "id": "Ag9LCva-p1cl"
      }
    },
    {
      "cell_type": "code",
      "source": [
        "# Chart - 13 visualization code"
      ],
      "metadata": {
        "id": "EUfxeq9-p1cl"
      },
      "execution_count": null,
      "outputs": []
    },
    {
      "cell_type": "markdown",
      "source": [
        "##### 1. Why did you pick the specific chart?"
      ],
      "metadata": {
        "id": "E6MkPsBcp1cl"
      }
    },
    {
      "cell_type": "markdown",
      "source": [
        "Answer Here."
      ],
      "metadata": {
        "id": "V22bRsFWp1cl"
      }
    },
    {
      "cell_type": "markdown",
      "source": [
        "##### 2. What is/are the insight(s) found from the chart?"
      ],
      "metadata": {
        "id": "2cELzS2fp1cl"
      }
    },
    {
      "cell_type": "markdown",
      "source": [
        "Answer Here"
      ],
      "metadata": {
        "id": "ozQPc2_Ip1cl"
      }
    },
    {
      "cell_type": "markdown",
      "source": [
        "##### 3. Will the gained insights help creating a positive business impact?\n",
        "Are there any insights that lead to negative growth? Justify with specific reason."
      ],
      "metadata": {
        "id": "3MPXvC8up1cl"
      }
    },
    {
      "cell_type": "markdown",
      "source": [
        "Answer Here"
      ],
      "metadata": {
        "id": "GL8l1tdLp1cl"
      }
    },
    {
      "cell_type": "markdown",
      "source": [
        "#### Chart - 14 - Correlation Heatmap"
      ],
      "metadata": {
        "id": "NC_X3p0fY2L0"
      }
    },
    {
      "cell_type": "code",
      "source": [
        "# Correlation Heatmap visualization code"
      ],
      "metadata": {
        "id": "xyC9zolEZNRQ"
      },
      "execution_count": null,
      "outputs": []
    },
    {
      "cell_type": "markdown",
      "source": [
        "##### 1. Why did you pick the specific chart?"
      ],
      "metadata": {
        "id": "UV0SzAkaZNRQ"
      }
    },
    {
      "cell_type": "markdown",
      "source": [
        "Answer Here."
      ],
      "metadata": {
        "id": "DVPuT8LYZNRQ"
      }
    },
    {
      "cell_type": "markdown",
      "source": [
        "##### 2. What is/are the insight(s) found from the chart?"
      ],
      "metadata": {
        "id": "YPEH6qLeZNRQ"
      }
    },
    {
      "cell_type": "markdown",
      "source": [
        "Answer Here"
      ],
      "metadata": {
        "id": "bfSqtnDqZNRR"
      }
    },
    {
      "cell_type": "markdown",
      "source": [
        "#### Chart - 15 - Pair Plot"
      ],
      "metadata": {
        "id": "q29F0dvdveiT"
      }
    },
    {
      "cell_type": "code",
      "source": [
        "# Pair Plot visualization code"
      ],
      "metadata": {
        "id": "o58-TEIhveiU"
      },
      "execution_count": null,
      "outputs": []
    },
    {
      "cell_type": "markdown",
      "source": [
        "##### 1. Why did you pick the specific chart?"
      ],
      "metadata": {
        "id": "EXh0U9oCveiU"
      }
    },
    {
      "cell_type": "markdown",
      "source": [
        "Answer Here."
      ],
      "metadata": {
        "id": "eMmPjTByveiU"
      }
    },
    {
      "cell_type": "markdown",
      "source": [
        "##### 2. What is/are the insight(s) found from the chart?"
      ],
      "metadata": {
        "id": "22aHeOlLveiV"
      }
    },
    {
      "cell_type": "markdown",
      "source": [
        "Answer Here"
      ],
      "metadata": {
        "id": "uPQ8RGwHveiV"
      }
    },
    {
      "cell_type": "markdown",
      "source": [
        "## **5. Solution to Business Objective**"
      ],
      "metadata": {
        "id": "JcMwzZxoAimU"
      }
    },
    {
      "cell_type": "markdown",
      "source": [
        "#### What do you suggest the client to achieve Business Objective ?\n",
        "Explain Briefly."
      ],
      "metadata": {
        "id": "8G2x9gOozGDZ"
      }
    },
    {
      "cell_type": "markdown",
      "source": [
        "Answer Here."
      ],
      "metadata": {
        "id": "pASKb0qOza21"
      }
    },
    {
      "cell_type": "markdown",
      "source": [
        "# **Conclusion**"
      ],
      "metadata": {
        "id": "gCX9965dhzqZ"
      }
    },
    {
      "cell_type": "markdown",
      "source": [
        "Write the conclusion here."
      ],
      "metadata": {
        "id": "Fjb1IsQkh3yE"
      }
    },
    {
      "cell_type": "markdown",
      "source": [
        "### ***Hurrah! You have successfully completed your EDA Capstone Project !!!***"
      ],
      "metadata": {
        "id": "gIfDvo9L0UH2"
      }
    }
  ]
}